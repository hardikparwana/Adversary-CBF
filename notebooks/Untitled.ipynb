{
 "cells": [
  {
   "cell_type": "code",
   "execution_count": 4,
   "id": "037425b6",
   "metadata": {},
   "outputs": [],
   "source": [
    "import numpy as np\n",
    "import sys\n",
    "sys.path.append(\"/home/hardik/Desktop/Research/Adversary-CBF\")\n",
    "from graph_utils import directed_milp_r_robustness, directed_milp_rs_robustness"
   ]
  },
  {
   "cell_type": "code",
   "execution_count": 5,
   "id": "6ff12641",
   "metadata": {},
   "outputs": [],
   "source": [
    "L = np.array( [ [2, 1, 1],\n",
    "                [1, 2, 1],\n",
    "                [1, 1, 2]] )"
   ]
  },
  {
   "cell_type": "code",
   "execution_count": 7,
   "id": "205f4648",
   "metadata": {},
   "outputs": [],
   "source": [
    "r = directed_milp_r_robustness( L )"
   ]
  },
  {
   "cell_type": "code",
   "execution_count": 9,
   "id": "4c22e853",
   "metadata": {},
   "outputs": [
    {
     "name": "stderr",
     "output_type": "stream",
     "text": [
      "/home/hardik/Desktop/Research/Adversary-CBF/venv/lib/python3.8/site-packages/cvxpy/problems/problem.py:1339: UserWarning: \n",
      "    The problem is either infeasible or unbounded, but the solver\n",
      "    cannot tell which. Disable any solver-specific presolve methods\n",
      "    and re-solve to determine the precise problem status.\n",
      "\n",
      "    For GUROBI and CPLEX you can automatically perform this re-solve\n",
      "    with the keyword argument prob.solve(reoptimize=True, ...).\n",
      "    \n",
      "  warnings.warn(INF_OR_UNB_MESSAGE)\n"
     ]
    }
   ],
   "source": [
    "s = directed_milp_rs_robustness( L, r )"
   ]
  },
  {
   "cell_type": "code",
   "execution_count": 10,
   "id": "5b2396ef",
   "metadata": {},
   "outputs": [],
   "source": [
    "a = np.array([ 1,2,3 ]).reshape(-1,1)"
   ]
  },
  {
   "cell_type": "code",
   "execution_count": 12,
   "id": "f1d29e2a",
   "metadata": {},
   "outputs": [
    {
     "data": {
      "text/plain": [
       "array([[1],\n",
       "       [2],\n",
       "       [3]])"
      ]
     },
     "execution_count": 12,
     "metadata": {},
     "output_type": "execute_result"
    }
   ],
   "source": [
    "a[0:3]"
   ]
  },
  {
   "cell_type": "code",
   "execution_count": null,
   "id": "bd42afbb",
   "metadata": {},
   "outputs": [],
   "source": []
  }
 ],
 "metadata": {
  "kernelspec": {
   "display_name": "Python 3 (ipykernel)",
   "language": "python",
   "name": "python3"
  },
  "language_info": {
   "codemirror_mode": {
    "name": "ipython",
    "version": 3
   },
   "file_extension": ".py",
   "mimetype": "text/x-python",
   "name": "python",
   "nbconvert_exporter": "python",
   "pygments_lexer": "ipython3",
   "version": "3.8.15"
  }
 },
 "nbformat": 4,
 "nbformat_minor": 5
}
