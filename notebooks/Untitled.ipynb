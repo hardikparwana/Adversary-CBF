{
 "cells": [
  {
   "cell_type": "code",
   "execution_count": 1,
   "id": "dca68e61",
   "metadata": {},
   "outputs": [
    {
     "name": "stderr",
     "output_type": "stream",
     "text": [
      "/home/hardik/Desktop/Research/Adversary-CBF/venv/lib/python3.8/site-packages/tqdm/auto.py:22: TqdmWarning: IProgress not found. Please update jupyter and ipywidgets. See https://ipywidgets.readthedocs.io/en/stable/user_install.html\n",
      "  from .autonotebook import tqdm as notebook_tqdm\n"
     ]
    },
    {
     "ename": "TypeError",
     "evalue": "The decorated object is not a function (got type <class 'type'>).",
     "output_type": "error",
     "traceback": [
      "\u001b[0;31m---------------------------------------------------------------------------\u001b[0m",
      "\u001b[0;31mTypeError\u001b[0m                                 Traceback (most recent call last)",
      "Input \u001b[0;32mIn [1]\u001b[0m, in \u001b[0;36m<cell line: 4>\u001b[0;34m()\u001b[0m\n\u001b[1;32m      2\u001b[0m \u001b[38;5;28;01mimport\u001b[39;00m \u001b[38;5;21;01msys\u001b[39;00m\n\u001b[1;32m      3\u001b[0m sys\u001b[38;5;241m.\u001b[39mpath\u001b[38;5;241m.\u001b[39mappend(\u001b[38;5;124m'\u001b[39m\u001b[38;5;124m/home/hardik/Desktop/Research/Adversary-CBF\u001b[39m\u001b[38;5;124m'\u001b[39m)\n\u001b[0;32m----> 4\u001b[0m \u001b[38;5;28;01mfrom\u001b[39;00m \u001b[38;5;21;01mutils\u001b[39;00m\u001b[38;5;21;01m.\u001b[39;00m\u001b[38;5;21;01mmvgp\u001b[39;00m \u001b[38;5;28;01mimport\u001b[39;00m MVGP\n",
      "File \u001b[0;32m~/Desktop/Research/Adversary-CBF/utils/mvgp.py:41\u001b[0m, in \u001b[0;36m<module>\u001b[0;34m\u001b[0m\n\u001b[1;32m     37\u001b[0m         K_star_torch[i,\u001b[38;5;241m0\u001b[39m] \u001b[38;5;241m=\u001b[39m evaluate_kernel_torch_gaussian_jit(X_obs_torch[i,:], Xnew)\n\u001b[1;32m     38\u001b[0m     \u001b[38;5;28;01mreturn\u001b[39;00m K_star_torch\n\u001b[1;32m     40\u001b[0m \u001b[38;5;129;43m@jit\u001b[39;49m\u001b[43m(\u001b[49m\u001b[43m \u001b[49m\u001b[43mnopython\u001b[49m\u001b[38;5;241;43m=\u001b[39;49m\u001b[38;5;28;43;01mTrue\u001b[39;49;00m\u001b[43m \u001b[49m\u001b[43m)\u001b[49m\n\u001b[0;32m---> 41\u001b[0m \u001b[38;5;28;43;01mclass\u001b[39;49;00m\u001b[43m \u001b[49m\u001b[38;5;21;43;01mMVGP\u001b[39;49;00m\u001b[43m:\u001b[49m\n\u001b[1;32m     42\u001b[0m \u001b[43m    \u001b[49m\u001b[38;5;124;43;03m\"\"\"\u001b[39;49;00m\n\u001b[1;32m     43\u001b[0m \u001b[38;5;124;43;03m    General purpose Gaussian process model\u001b[39;49;00m\n\u001b[1;32m     44\u001b[0m \u001b[38;5;124;43;03m    :param X: input observations: size N x n. N: no of observations, n: dimension of a single input vector\u001b[39;49;00m\n\u001b[0;32m   (...)\u001b[0m\n\u001b[1;32m     55\u001b[0m \u001b[38;5;124;43;03m    .. Note:: Multiple independent outputs are allowed using columns of Y\u001b[39;49;00m\n\u001b[1;32m     56\u001b[0m \u001b[38;5;124;43;03m    \"\"\"\u001b[39;49;00m\n\u001b[1;32m     57\u001b[0m \u001b[43m    \u001b[49m\u001b[38;5;28;43;01mdef\u001b[39;49;00m\u001b[43m \u001b[49m\u001b[38;5;21;43m__init__\u001b[39;49m\u001b[43m(\u001b[49m\u001b[38;5;28;43mself\u001b[39;49m\u001b[43m,\u001b[49m\u001b[43m \u001b[49m\u001b[43mX\u001b[49m\u001b[43m \u001b[49m\u001b[38;5;241;43m=\u001b[39;49m\u001b[43m \u001b[49m\u001b[43m[\u001b[49m\u001b[43m]\u001b[49m\u001b[43m,\u001b[49m\u001b[43m \u001b[49m\u001b[43mY\u001b[49m\u001b[43m \u001b[49m\u001b[38;5;241;43m=\u001b[39;49m\u001b[43m \u001b[49m\u001b[43m[\u001b[49m\u001b[43m]\u001b[49m\u001b[43m,\u001b[49m\u001b[43m \u001b[49m\u001b[43mkernel\u001b[49m\u001b[38;5;241;43m=\u001b[39;49m\u001b[38;5;124;43m'\u001b[39;49m\u001b[38;5;124;43mSE\u001b[39;49m\u001b[38;5;124;43m'\u001b[39;49m\u001b[43m,\u001b[49m\u001b[43m \u001b[49m\u001b[43mkernel_type\u001b[49m\u001b[43m \u001b[49m\u001b[38;5;241;43m=\u001b[39;49m\u001b[43m \u001b[49m\u001b[38;5;124;43m'\u001b[39;49m\u001b[38;5;124;43mGaussian\u001b[39;49m\u001b[38;5;124;43m'\u001b[39;49m\u001b[43m,\u001b[49m\u001b[43m \u001b[49m\u001b[43momega\u001b[49m\u001b[38;5;241;43m=\u001b[39;49m\u001b[38;5;28;43;01mNone\u001b[39;49;00m\u001b[43m,\u001b[49m\u001b[43m \u001b[49m\u001b[43ml\u001b[49m\u001b[38;5;241;43m=\u001b[39;49m\u001b[38;5;28;43;01mNone\u001b[39;49;00m\u001b[43m,\u001b[49m\u001b[43m \u001b[49m\u001b[43msigma\u001b[49m\u001b[38;5;241;43m=\u001b[39;49m\u001b[38;5;241;43m1.0\u001b[39;49m\u001b[43m,\u001b[49m\u001b[43m \u001b[49m\u001b[43mL\u001b[49m\u001b[43m \u001b[49m\u001b[38;5;241;43m=\u001b[39;49m\u001b[43m \u001b[49m\u001b[38;5;241;43m0.5\u001b[39;49m\u001b[43m,\u001b[49m\u001b[43m \u001b[49m\u001b[43mp\u001b[49m\u001b[43m \u001b[49m\u001b[38;5;241;43m=\u001b[39;49m\u001b[43m \u001b[49m\u001b[38;5;241;43m0.5\u001b[39;49m\u001b[43m,\u001b[49m\u001b[43m \u001b[49m\u001b[43mnoise\u001b[49m\u001b[38;5;241;43m=\u001b[39;49m\u001b[38;5;28;43;01mNone\u001b[39;49;00m\u001b[43m,\u001b[49m\u001b[43m \u001b[49m\u001b[43mhorizon\u001b[49m\u001b[38;5;241;43m=\u001b[39;49m\u001b[38;5;241;43m20\u001b[39;49m\u001b[43m)\u001b[49m\u001b[43m:\u001b[49m\n",
      "File \u001b[0;32m~/Desktop/Research/Adversary-CBF/venv/lib/python3.8/site-packages/numba/core/decorators.py:198\u001b[0m, in \u001b[0;36m_jit.<locals>.wrapper\u001b[0;34m(func)\u001b[0m\n\u001b[1;32m    191\u001b[0m     \u001b[38;5;28;01mraise\u001b[39;00m \u001b[38;5;167;01mTypeError\u001b[39;00m(\n\u001b[1;32m    192\u001b[0m         \u001b[38;5;124m\"\u001b[39m\u001b[38;5;124mA jit decorator was called on an already jitted function \u001b[39m\u001b[38;5;124m\"\u001b[39m\n\u001b[1;32m    193\u001b[0m         \u001b[38;5;124mf\u001b[39m\u001b[38;5;124m\"\u001b[39m\u001b[38;5;132;01m{\u001b[39;00mfunc\u001b[38;5;132;01m}\u001b[39;00m\u001b[38;5;124m.  If trying to access the original python \u001b[39m\u001b[38;5;124m\"\u001b[39m\n\u001b[1;32m    194\u001b[0m         \u001b[38;5;124mf\u001b[39m\u001b[38;5;124m\"\u001b[39m\u001b[38;5;124mfunction, use the \u001b[39m\u001b[38;5;132;01m{\u001b[39;00mfunc\u001b[38;5;132;01m}\u001b[39;00m\u001b[38;5;124m.py_func attribute.\u001b[39m\u001b[38;5;124m\"\u001b[39m\n\u001b[1;32m    195\u001b[0m     )\n\u001b[1;32m    197\u001b[0m \u001b[38;5;28;01mif\u001b[39;00m \u001b[38;5;129;01mnot\u001b[39;00m inspect\u001b[38;5;241m.\u001b[39misfunction(func):\n\u001b[0;32m--> 198\u001b[0m     \u001b[38;5;28;01mraise\u001b[39;00m \u001b[38;5;167;01mTypeError\u001b[39;00m(\n\u001b[1;32m    199\u001b[0m         \u001b[38;5;124m\"\u001b[39m\u001b[38;5;124mThe decorated object is not a function (got type \u001b[39m\u001b[38;5;124m\"\u001b[39m\n\u001b[1;32m    200\u001b[0m         \u001b[38;5;124mf\u001b[39m\u001b[38;5;124m\"\u001b[39m\u001b[38;5;132;01m{\u001b[39;00m\u001b[38;5;28mtype\u001b[39m(func)\u001b[38;5;132;01m}\u001b[39;00m\u001b[38;5;124m).\u001b[39m\u001b[38;5;124m\"\u001b[39m\n\u001b[1;32m    201\u001b[0m     )\n\u001b[1;32m    203\u001b[0m \u001b[38;5;28;01mif\u001b[39;00m config\u001b[38;5;241m.\u001b[39mENABLE_CUDASIM \u001b[38;5;129;01mand\u001b[39;00m target \u001b[38;5;241m==\u001b[39m \u001b[38;5;124m'\u001b[39m\u001b[38;5;124mcuda\u001b[39m\u001b[38;5;124m'\u001b[39m:\n\u001b[1;32m    204\u001b[0m     \u001b[38;5;28;01mfrom\u001b[39;00m \u001b[38;5;21;01mnumba\u001b[39;00m \u001b[38;5;28;01mimport\u001b[39;00m cuda\n",
      "\u001b[0;31mTypeError\u001b[0m: The decorated object is not a function (got type <class 'type'>)."
     ]
    }
   ],
   "source": [
    "import numpy as np\n",
    "import sys\n",
    "sys.path.append('/home/hardik/Desktop/Research/Adversary-CBF')\n",
    "from utils.mvgp import MVGP"
   ]
  },
  {
   "cell_type": "code",
   "execution_count": 23,
   "id": "a510315f",
   "metadata": {},
   "outputs": [],
   "source": [
    "train_x = np.linspace(1,10,100).reshape(1,-1)"
   ]
  },
  {
   "cell_type": "code",
   "execution_count": 20,
   "id": "8603b7d9",
   "metadata": {},
   "outputs": [],
   "source": [
    "train_y1 = np.cos(train_x)\n",
    "train_y2 = np.sin(train_x)\n",
    "omega = np.array([ [1.0, 0.5],[0.5, 1.0] ])\n",
    "l = 0.4\n",
    "sigma = 1.0"
   ]
  },
  {
   "cell_type": "code",
   "execution_count": 21,
   "id": "ea6561ee",
   "metadata": {},
   "outputs": [],
   "source": [
    "train_y = np.append( train_y1, train_y2, axis=0 )"
   ]
  },
  {
   "cell_type": "code",
   "execution_count": 8,
   "id": "1c62e8a5",
   "metadata": {},
   "outputs": [
    {
     "data": {
      "text/plain": [
       "(2, 100)"
      ]
     },
     "execution_count": 8,
     "metadata": {},
     "output_type": "execute_result"
    }
   ],
   "source": [
    "train_y.shape"
   ]
  },
  {
   "cell_type": "code",
   "execution_count": 9,
   "id": "e99910b6",
   "metadata": {},
   "outputs": [],
   "source": [
    "gp = MVGP( X = train_x.T, Y = train_y.T, omega = omega, sigma = sigma, l = l, noise = 0.05, horizon=300 )"
   ]
  },
  {
   "cell_type": "code",
   "execution_count": 10,
   "id": "ae53cad4",
   "metadata": {},
   "outputs": [
    {
     "name": "stdout",
     "output_type": "stream",
     "text": [
      "(array([[0.]]), array([[1.05 , 0.525],\n",
      "       [0.525, 1.05 ]]))\n",
      "(array([[0.]]), array([[1.05 , 0.525],\n",
      "       [0.525, 1.05 ]]))\n",
      "(array([[0.]]), array([[1.05 , 0.525],\n",
      "       [0.525, 1.05 ]]))\n",
      "(array([[0.]]), array([[1.05 , 0.525],\n",
      "       [0.525, 1.05 ]]))\n",
      "(array([[0.]]), array([[1.05 , 0.525],\n",
      "       [0.525, 1.05 ]]))\n",
      "(array([[0.]]), array([[1.05 , 0.525],\n",
      "       [0.525, 1.05 ]]))\n",
      "(array([[0.]]), array([[1.05 , 0.525],\n",
      "       [0.525, 1.05 ]]))\n",
      "(array([[0.]]), array([[1.05 , 0.525],\n",
      "       [0.525, 1.05 ]]))\n",
      "(array([[0.]]), array([[1.05 , 0.525],\n",
      "       [0.525, 1.05 ]]))\n",
      "(array([[0.]]), array([[1.05 , 0.525],\n",
      "       [0.525, 1.05 ]]))\n",
      "(array([[0.]]), array([[1.05 , 0.525],\n",
      "       [0.525, 1.05 ]]))\n",
      "(array([[0.]]), array([[1.05 , 0.525],\n",
      "       [0.525, 1.05 ]]))\n",
      "(array([[0.]]), array([[1.05 , 0.525],\n",
      "       [0.525, 1.05 ]]))\n",
      "(array([[0.]]), array([[1.05 , 0.525],\n",
      "       [0.525, 1.05 ]]))\n",
      "(array([[0.]]), array([[1.05 , 0.525],\n",
      "       [0.525, 1.05 ]]))\n",
      "(array([[0.]]), array([[1.05 , 0.525],\n",
      "       [0.525, 1.05 ]]))\n",
      "(array([[0.]]), array([[1.05 , 0.525],\n",
      "       [0.525, 1.05 ]]))\n",
      "(array([[0.]]), array([[1.05 , 0.525],\n",
      "       [0.525, 1.05 ]]))\n",
      "(array([[0.]]), array([[1.05 , 0.525],\n",
      "       [0.525, 1.05 ]]))\n",
      "(array([[0.]]), array([[1.05 , 0.525],\n",
      "       [0.525, 1.05 ]]))\n",
      "(array([[0.]]), array([[1.05 , 0.525],\n",
      "       [0.525, 1.05 ]]))\n",
      "(array([[0.]]), array([[1.05 , 0.525],\n",
      "       [0.525, 1.05 ]]))\n",
      "(array([[0.]]), array([[1.05 , 0.525],\n",
      "       [0.525, 1.05 ]]))\n",
      "(array([[0.]]), array([[1.05 , 0.525],\n",
      "       [0.525, 1.05 ]]))\n",
      "(array([[0.]]), array([[1.05 , 0.525],\n",
      "       [0.525, 1.05 ]]))\n",
      "(array([[0.]]), array([[1.05 , 0.525],\n",
      "       [0.525, 1.05 ]]))\n",
      "(array([[0.]]), array([[1.05 , 0.525],\n",
      "       [0.525, 1.05 ]]))\n",
      "(array([[0.]]), array([[1.05 , 0.525],\n",
      "       [0.525, 1.05 ]]))\n",
      "(array([[0.]]), array([[1.05 , 0.525],\n",
      "       [0.525, 1.05 ]]))\n",
      "(array([[0.]]), array([[1.05 , 0.525],\n",
      "       [0.525, 1.05 ]]))\n",
      "(array([[0.]]), array([[1.05 , 0.525],\n",
      "       [0.525, 1.05 ]]))\n",
      "(array([[0.]]), array([[1.05 , 0.525],\n",
      "       [0.525, 1.05 ]]))\n",
      "(array([[0.]]), array([[1.05 , 0.525],\n",
      "       [0.525, 1.05 ]]))\n",
      "(array([[0.]]), array([[1.05 , 0.525],\n",
      "       [0.525, 1.05 ]]))\n",
      "(array([[0.]]), array([[1.05 , 0.525],\n",
      "       [0.525, 1.05 ]]))\n",
      "(array([[0.]]), array([[1.05 , 0.525],\n",
      "       [0.525, 1.05 ]]))\n",
      "(array([[0.]]), array([[1.05 , 0.525],\n",
      "       [0.525, 1.05 ]]))\n",
      "(array([[0.]]), array([[1.05 , 0.525],\n",
      "       [0.525, 1.05 ]]))\n",
      "(array([[0.]]), array([[1.05 , 0.525],\n",
      "       [0.525, 1.05 ]]))\n",
      "(array([[0.]]), array([[1.05 , 0.525],\n",
      "       [0.525, 1.05 ]]))\n",
      "(array([[0.]]), array([[1.05 , 0.525],\n",
      "       [0.525, 1.05 ]]))\n",
      "(array([[0.]]), array([[1.05 , 0.525],\n",
      "       [0.525, 1.05 ]]))\n",
      "(array([[0.]]), array([[1.05 , 0.525],\n",
      "       [0.525, 1.05 ]]))\n",
      "(array([[0.]]), array([[1.05 , 0.525],\n",
      "       [0.525, 1.05 ]]))\n",
      "(array([[0.]]), array([[1.05 , 0.525],\n",
      "       [0.525, 1.05 ]]))\n",
      "(array([[0.]]), array([[1.05 , 0.525],\n",
      "       [0.525, 1.05 ]]))\n",
      "(array([[0.]]), array([[1.05 , 0.525],\n",
      "       [0.525, 1.05 ]]))\n",
      "(array([[0.]]), array([[1.05 , 0.525],\n",
      "       [0.525, 1.05 ]]))\n",
      "(array([[0.]]), array([[1.05 , 0.525],\n",
      "       [0.525, 1.05 ]]))\n",
      "(array([[0.]]), array([[1.05 , 0.525],\n",
      "       [0.525, 1.05 ]]))\n",
      "(array([[0.]]), array([[1.05 , 0.525],\n",
      "       [0.525, 1.05 ]]))\n",
      "(array([[0.]]), array([[1.05 , 0.525],\n",
      "       [0.525, 1.05 ]]))\n",
      "(array([[0.]]), array([[1.05 , 0.525],\n",
      "       [0.525, 1.05 ]]))\n",
      "(array([[0.]]), array([[1.05 , 0.525],\n",
      "       [0.525, 1.05 ]]))\n",
      "(array([[0.]]), array([[1.05 , 0.525],\n",
      "       [0.525, 1.05 ]]))\n",
      "(array([[0.]]), array([[1.05 , 0.525],\n",
      "       [0.525, 1.05 ]]))\n",
      "(array([[0.]]), array([[1.05 , 0.525],\n",
      "       [0.525, 1.05 ]]))\n",
      "(array([[0.]]), array([[1.05 , 0.525],\n",
      "       [0.525, 1.05 ]]))\n",
      "(array([[0.]]), array([[1.05 , 0.525],\n",
      "       [0.525, 1.05 ]]))\n",
      "(array([[0.]]), array([[1.05 , 0.525],\n",
      "       [0.525, 1.05 ]]))\n",
      "(array([[0.]]), array([[1.05 , 0.525],\n",
      "       [0.525, 1.05 ]]))\n",
      "(array([[0.]]), array([[1.05 , 0.525],\n",
      "       [0.525, 1.05 ]]))\n",
      "(array([[0.]]), array([[1.05 , 0.525],\n",
      "       [0.525, 1.05 ]]))\n",
      "(array([[0.]]), array([[1.05 , 0.525],\n",
      "       [0.525, 1.05 ]]))\n",
      "(array([[0.]]), array([[1.05 , 0.525],\n",
      "       [0.525, 1.05 ]]))\n",
      "(array([[0.]]), array([[1.05 , 0.525],\n",
      "       [0.525, 1.05 ]]))\n",
      "(array([[0.]]), array([[1.05 , 0.525],\n",
      "       [0.525, 1.05 ]]))\n",
      "(array([[0.]]), array([[1.05 , 0.525],\n",
      "       [0.525, 1.05 ]]))\n",
      "(array([[0.]]), array([[1.05 , 0.525],\n",
      "       [0.525, 1.05 ]]))\n",
      "(array([[0.]]), array([[1.05 , 0.525],\n",
      "       [0.525, 1.05 ]]))\n",
      "(array([[0.]]), array([[1.05 , 0.525],\n",
      "       [0.525, 1.05 ]]))\n",
      "(array([[0.]]), array([[1.05 , 0.525],\n",
      "       [0.525, 1.05 ]]))\n",
      "(array([[0.]]), array([[1.05 , 0.525],\n",
      "       [0.525, 1.05 ]]))\n",
      "(array([[0.]]), array([[1.05 , 0.525],\n",
      "       [0.525, 1.05 ]]))\n",
      "(array([[0.]]), array([[1.05 , 0.525],\n",
      "       [0.525, 1.05 ]]))\n",
      "(array([[0.]]), array([[1.05 , 0.525],\n",
      "       [0.525, 1.05 ]]))\n",
      "(array([[0.]]), array([[1.05 , 0.525],\n",
      "       [0.525, 1.05 ]]))\n",
      "(array([[0.]]), array([[1.05 , 0.525],\n",
      "       [0.525, 1.05 ]]))\n",
      "(array([[0.]]), array([[1.05 , 0.525],\n",
      "       [0.525, 1.05 ]]))\n",
      "(array([[0.]]), array([[1.05 , 0.525],\n",
      "       [0.525, 1.05 ]]))\n",
      "(array([[0.]]), array([[1.05 , 0.525],\n",
      "       [0.525, 1.05 ]]))\n",
      "(array([[0.]]), array([[1.05 , 0.525],\n",
      "       [0.525, 1.05 ]]))\n",
      "(array([[0.]]), array([[1.05 , 0.525],\n",
      "       [0.525, 1.05 ]]))\n",
      "(array([[0.]]), array([[1.05 , 0.525],\n",
      "       [0.525, 1.05 ]]))\n",
      "(array([[0.]]), array([[1.05 , 0.525],\n",
      "       [0.525, 1.05 ]]))\n",
      "(array([[0.]]), array([[1.05 , 0.525],\n",
      "       [0.525, 1.05 ]]))\n",
      "(array([[0.]]), array([[1.05 , 0.525],\n",
      "       [0.525, 1.05 ]]))\n",
      "(array([[0.]]), array([[1.05 , 0.525],\n",
      "       [0.525, 1.05 ]]))\n",
      "(array([[0.]]), array([[1.05 , 0.525],\n",
      "       [0.525, 1.05 ]]))\n",
      "(array([[0.]]), array([[1.05 , 0.525],\n",
      "       [0.525, 1.05 ]]))\n",
      "(array([[0.]]), array([[1.05 , 0.525],\n",
      "       [0.525, 1.05 ]]))\n",
      "(array([[0.]]), array([[1.05 , 0.525],\n",
      "       [0.525, 1.05 ]]))\n",
      "(array([[0.]]), array([[1.05 , 0.525],\n",
      "       [0.525, 1.05 ]]))\n",
      "(array([[0.]]), array([[1.05 , 0.525],\n",
      "       [0.525, 1.05 ]]))\n",
      "(array([[0.]]), array([[1.05 , 0.525],\n",
      "       [0.525, 1.05 ]]))\n",
      "(array([[0.]]), array([[1.05 , 0.525],\n",
      "       [0.525, 1.05 ]]))\n",
      "(array([[0.]]), array([[1.05 , 0.525],\n",
      "       [0.525, 1.05 ]]))\n",
      "(array([[0.]]), array([[1.05 , 0.525],\n",
      "       [0.525, 1.05 ]]))\n",
      "(array([[0.]]), array([[1.05 , 0.525],\n",
      "       [0.525, 1.05 ]]))\n",
      "(array([[0.]]), array([[1.05 , 0.525],\n",
      "       [0.525, 1.05 ]]))\n"
     ]
    },
    {
     "name": "stderr",
     "output_type": "stream",
     "text": [
      "/home/hardik/Desktop/Research/Adversary-CBF/venv/lib/python3.8/site-packages/numpy/lib/function_base.py:935: VisibleDeprecationWarning: Creating an ndarray from ragged nested sequences (which is a list-or-tuple of lists-or-tuples-or ndarrays with different lengths or shapes) is deprecated. If you meant to do this, you must specify 'dtype=object' when creating the ndarray.\n",
      "  return array(a, order=order, subok=subok, copy=True)\n",
      "/tmp/ipykernel_132623/2433427677.py:5: DeprecationWarning: elementwise comparison failed; this will raise an error in the future.\n",
      "  if ys == []:\n",
      "<__array_function__ internals>:180: VisibleDeprecationWarning: Creating an ndarray from ragged nested sequences (which is a list-or-tuple of lists-or-tuples-or ndarrays with different lengths or shapes) is deprecated. If you meant to do this, you must specify 'dtype=object' when creating the ndarray.\n"
     ]
    }
   ],
   "source": [
    "ys = []\n",
    "for i in range(train_x.shape[1]):\n",
    "    y = gp.predict( train_x[:,i].T )\n",
    "    print(y)\n",
    "    if ys == []:\n",
    "        ys = np.copy(y)\n",
    "    else:\n",
    "        ys = np.append( ys, y, axis=0 )"
   ]
  },
  {
   "cell_type": "code",
   "execution_count": 11,
   "id": "e340f3a5",
   "metadata": {},
   "outputs": [
    {
     "data": {
      "text/plain": [
       "(200,)"
      ]
     },
     "execution_count": 11,
     "metadata": {},
     "output_type": "execute_result"
    }
   ],
   "source": [
    "ys.shape"
   ]
  },
  {
   "cell_type": "code",
   "execution_count": 12,
   "id": "d38e1cec",
   "metadata": {},
   "outputs": [
    {
     "data": {
      "text/plain": [
       "array([ 1.        ,  1.09090909,  1.18181818,  1.27272727,  1.36363636,\n",
       "        1.45454545,  1.54545455,  1.63636364,  1.72727273,  1.81818182,\n",
       "        1.90909091,  2.        ,  2.09090909,  2.18181818,  2.27272727,\n",
       "        2.36363636,  2.45454545,  2.54545455,  2.63636364,  2.72727273,\n",
       "        2.81818182,  2.90909091,  3.        ,  3.09090909,  3.18181818,\n",
       "        3.27272727,  3.36363636,  3.45454545,  3.54545455,  3.63636364,\n",
       "        3.72727273,  3.81818182,  3.90909091,  4.        ,  4.09090909,\n",
       "        4.18181818,  4.27272727,  4.36363636,  4.45454545,  4.54545455,\n",
       "        4.63636364,  4.72727273,  4.81818182,  4.90909091,  5.        ,\n",
       "        5.09090909,  5.18181818,  5.27272727,  5.36363636,  5.45454545,\n",
       "        5.54545455,  5.63636364,  5.72727273,  5.81818182,  5.90909091,\n",
       "        6.        ,  6.09090909,  6.18181818,  6.27272727,  6.36363636,\n",
       "        6.45454545,  6.54545455,  6.63636364,  6.72727273,  6.81818182,\n",
       "        6.90909091,  7.        ,  7.09090909,  7.18181818,  7.27272727,\n",
       "        7.36363636,  7.45454545,  7.54545455,  7.63636364,  7.72727273,\n",
       "        7.81818182,  7.90909091,  8.        ,  8.09090909,  8.18181818,\n",
       "        8.27272727,  8.36363636,  8.45454545,  8.54545455,  8.63636364,\n",
       "        8.72727273,  8.81818182,  8.90909091,  9.        ,  9.09090909,\n",
       "        9.18181818,  9.27272727,  9.36363636,  9.45454545,  9.54545455,\n",
       "        9.63636364,  9.72727273,  9.81818182,  9.90909091, 10.        ])"
      ]
     },
     "execution_count": 12,
     "metadata": {},
     "output_type": "execute_result"
    }
   ],
   "source": [
    "np.linspace(1,10,100)"
   ]
  },
  {
   "cell_type": "code",
   "execution_count": 13,
   "id": "88a53149",
   "metadata": {},
   "outputs": [],
   "source": [
    "import torch\n",
    "a = torch.tensor([1,1]).reshape(1,-1)\n",
    "b = torch.tensor([2,2]).reshape(-1,1)"
   ]
  },
  {
   "cell_type": "code",
   "execution_count": 14,
   "id": "33eb10b5",
   "metadata": {},
   "outputs": [
    {
     "data": {
      "text/plain": [
       "tensor([[1, 1]])"
      ]
     },
     "execution_count": 14,
     "metadata": {},
     "output_type": "execute_result"
    }
   ],
   "source": [
    "a"
   ]
  },
  {
   "cell_type": "code",
   "execution_count": 15,
   "id": "1647cff5",
   "metadata": {},
   "outputs": [
    {
     "data": {
      "text/plain": [
       "tensor([[2],\n",
       "        [2]])"
      ]
     },
     "execution_count": 15,
     "metadata": {},
     "output_type": "execute_result"
    }
   ],
   "source": [
    "b"
   ]
  },
  {
   "cell_type": "code",
   "execution_count": 16,
   "id": "10b68a98",
   "metadata": {},
   "outputs": [
    {
     "data": {
      "text/plain": [
       "tensor([[4]])"
      ]
     },
     "execution_count": 16,
     "metadata": {},
     "output_type": "execute_result"
    }
   ],
   "source": [
    "a @ b"
   ]
  },
  {
   "cell_type": "code",
   "execution_count": 19,
   "id": "73699015",
   "metadata": {},
   "outputs": [
    {
     "data": {
      "text/plain": [
       "tensor([[2, 2],\n",
       "        [2, 2]])"
      ]
     },
     "execution_count": 19,
     "metadata": {},
     "output_type": "execute_result"
    }
   ],
   "source": [
    "a * b"
   ]
  },
  {
   "cell_type": "code",
   "execution_count": 22,
   "id": "66b68d6d",
   "metadata": {},
   "outputs": [
    {
     "data": {
      "text/plain": [
       "tensor([[2, 2],\n",
       "        [2, 2]])"
      ]
     },
     "execution_count": 22,
     "metadata": {},
     "output_type": "execute_result"
    }
   ],
   "source": [
    "torch.matmul(b,a)"
   ]
  },
  {
   "cell_type": "code",
   "execution_count": 23,
   "id": "c920cfe5",
   "metadata": {},
   "outputs": [
    {
     "data": {
      "text/plain": [
       "tensor([[1, 1]])"
      ]
     },
     "execution_count": 23,
     "metadata": {},
     "output_type": "execute_result"
    }
   ],
   "source": [
    "a**2"
   ]
  },
  {
   "cell_type": "code",
   "execution_count": 24,
   "id": "2a398549",
   "metadata": {},
   "outputs": [
    {
     "data": {
      "text/plain": [
       "tensor([[4],\n",
       "        [4]])"
      ]
     },
     "execution_count": 24,
     "metadata": {},
     "output_type": "execute_result"
    }
   ],
   "source": [
    "b**2"
   ]
  },
  {
   "cell_type": "code",
   "execution_count": 2,
   "id": "3d593de1",
   "metadata": {},
   "outputs": [],
   "source": [
    "a = np.append( np.ones((300,600)), np.zeros((300,1)), axis=1)"
   ]
  },
  {
   "cell_type": "code",
   "execution_count": 3,
   "id": "2cbb9588",
   "metadata": {},
   "outputs": [
    {
     "data": {
      "text/plain": [
       "array([0., 0., 0., 0., 0., 0., 0., 0., 0., 0., 0., 0., 0., 0., 0., 0., 0.,\n",
       "       0., 0., 0., 0., 0., 0., 0., 0., 0., 0., 0., 0., 0., 0., 0., 0., 0.,\n",
       "       0., 0., 0., 0., 0., 0., 0., 0., 0., 0., 0., 0., 0., 0., 0., 0., 0.,\n",
       "       0., 0., 0., 0., 0., 0., 0., 0., 0., 0., 0., 0., 0., 0., 0., 0., 0.,\n",
       "       0., 0., 0., 0., 0., 0., 0., 0., 0., 0., 0., 0., 0., 0., 0., 0., 0.,\n",
       "       0., 0., 0., 0., 0., 0., 0., 0., 0., 0., 0., 0., 0., 0., 0., 0., 0.,\n",
       "       0., 0., 0., 0., 0., 0., 0., 0., 0., 0., 0., 0., 0., 0., 0., 0., 0.,\n",
       "       0., 0., 0., 0., 0., 0., 0., 0., 0., 0., 0., 0., 0., 0., 0., 0., 0.,\n",
       "       0., 0., 0., 0., 0., 0., 0., 0., 0., 0., 0., 0., 0., 0., 0., 0., 0.,\n",
       "       0., 0., 0., 0., 0., 0., 0., 0., 0., 0., 0., 0., 0., 0., 0., 0., 0.,\n",
       "       0., 0., 0., 0., 0., 0., 0., 0., 0., 0., 0., 0., 0., 0., 0., 0., 0.,\n",
       "       0., 0., 0., 0., 0., 0., 0., 0., 0., 0., 0., 0., 0., 0., 0., 0., 0.,\n",
       "       0., 0., 0., 0., 0., 0., 0., 0., 0., 0., 0., 0., 0., 0., 0., 0., 0.,\n",
       "       0., 0., 0., 0., 0., 0., 0., 0., 0., 0., 0., 0., 0., 0., 0., 0., 0.,\n",
       "       0., 0., 0., 0., 0., 0., 0., 0., 0., 0., 0., 0., 0., 0., 0., 0., 0.,\n",
       "       0., 0., 0., 0., 0., 0., 0., 0., 0., 0., 0., 0., 0., 0., 0., 0., 0.,\n",
       "       0., 0., 0., 0., 0., 0., 0., 0., 0., 0., 0., 0., 0., 0., 0., 0., 0.,\n",
       "       0., 0., 0., 0., 0., 0., 0., 0., 0., 0., 0.])"
      ]
     },
     "execution_count": 3,
     "metadata": {},
     "output_type": "execute_result"
    }
   ],
   "source": [
    "a[:,-1000:][:,-1]"
   ]
  },
  {
   "cell_type": "code",
   "execution_count": 4,
   "id": "85cbbcf5",
   "metadata": {},
   "outputs": [
    {
     "data": {
      "text/plain": [
       "(300, 601)"
      ]
     },
     "execution_count": 4,
     "metadata": {},
     "output_type": "execute_result"
    }
   ],
   "source": [
    "a.shape"
   ]
  },
  {
   "cell_type": "code",
   "execution_count": 5,
   "id": "24e60b8c",
   "metadata": {},
   "outputs": [
    {
     "data": {
      "text/plain": [
       "array([0., 0., 0., 0., 0., 0., 0., 0., 0., 0., 0., 0., 0., 0., 0., 0., 0.,\n",
       "       0., 0., 0., 0., 0., 0., 0., 0., 0., 0., 0., 0., 0., 0., 0., 0., 0.,\n",
       "       0., 0., 0., 0., 0., 0., 0., 0., 0., 0., 0., 0., 0., 0., 0., 0., 0.,\n",
       "       0., 0., 0., 0., 0., 0., 0., 0., 0., 0., 0., 0., 0., 0., 0., 0., 0.,\n",
       "       0., 0., 0., 0., 0., 0., 0., 0., 0., 0., 0., 0., 0., 0., 0., 0., 0.,\n",
       "       0., 0., 0., 0., 0., 0., 0., 0., 0., 0., 0., 0., 0., 0., 0., 0., 0.,\n",
       "       0., 0., 0., 0., 0., 0., 0., 0., 0., 0., 0., 0., 0., 0., 0., 0., 0.,\n",
       "       0., 0., 0., 0., 0., 0., 0., 0., 0., 0., 0., 0., 0., 0., 0., 0., 0.,\n",
       "       0., 0., 0., 0., 0., 0., 0., 0., 0., 0., 0., 0., 0., 0., 0., 0., 0.,\n",
       "       0., 0., 0., 0., 0., 0., 0., 0., 0., 0., 0., 0., 0., 0., 0., 0., 0.,\n",
       "       0., 0., 0., 0., 0., 0., 0., 0., 0., 0., 0., 0., 0., 0., 0., 0., 0.,\n",
       "       0., 0., 0., 0., 0., 0., 0., 0., 0., 0., 0., 0., 0., 0., 0., 0., 0.,\n",
       "       0., 0., 0., 0., 0., 0., 0., 0., 0., 0., 0., 0., 0., 0., 0., 0., 0.,\n",
       "       0., 0., 0., 0., 0., 0., 0., 0., 0., 0., 0., 0., 0., 0., 0., 0., 0.,\n",
       "       0., 0., 0., 0., 0., 0., 0., 0., 0., 0., 0., 0., 0., 0., 0., 0., 0.,\n",
       "       0., 0., 0., 0., 0., 0., 0., 0., 0., 0., 0., 0., 0., 0., 0., 0., 0.,\n",
       "       0., 0., 0., 0., 0., 0., 0., 0., 0., 0., 0., 0., 0., 0., 0., 0., 0.,\n",
       "       0., 0., 0., 0., 0., 0., 0., 0., 0., 0., 0.])"
      ]
     },
     "execution_count": 5,
     "metadata": {},
     "output_type": "execute_result"
    }
   ],
   "source": [
    "a[:,-1]"
   ]
  },
  {
   "cell_type": "code",
   "execution_count": 3,
   "id": "83714fd6",
   "metadata": {},
   "outputs": [],
   "source": [
    "import torch\n",
    "a = torch.ones((2,5))"
   ]
  },
  {
   "cell_type": "code",
   "execution_count": 4,
   "id": "358e9c8c",
   "metadata": {},
   "outputs": [],
   "source": [
    "b = torch.tensor([ [1,2,3,4,5] ])"
   ]
  },
  {
   "cell_type": "code",
   "execution_count": 10,
   "id": "afb11554",
   "metadata": {},
   "outputs": [
    {
     "data": {
      "text/plain": [
       "tensor([[1., 2., 3., 4., 5.],\n",
       "        [1., 2., 3., 4., 5.]])"
      ]
     },
     "execution_count": 10,
     "metadata": {},
     "output_type": "execute_result"
    }
   ],
   "source": [
    "a * b"
   ]
  },
  {
   "cell_type": "code",
   "execution_count": 11,
   "id": "8b51a69f",
   "metadata": {},
   "outputs": [
    {
     "data": {
      "text/plain": [
       "torch.Size([2, 5])"
      ]
     },
     "execution_count": 11,
     "metadata": {},
     "output_type": "execute_result"
    }
   ],
   "source": [
    "a.shape"
   ]
  },
  {
   "cell_type": "code",
   "execution_count": 14,
   "id": "28af7d32",
   "metadata": {},
   "outputs": [
    {
     "data": {
      "text/plain": [
       "array([[0., 0., 0.],\n",
       "       [0., 0., 0.]])"
      ]
     },
     "execution_count": 14,
     "metadata": {},
     "output_type": "execute_result"
    }
   ],
   "source": [
    "np.zeros((2,3))"
   ]
  },
  {
   "cell_type": "code",
   "execution_count": 15,
   "id": "dccbcb59",
   "metadata": {},
   "outputs": [],
   "source": [
    "a = torch.tensor([0])"
   ]
  },
  {
   "cell_type": "code",
   "execution_count": 18,
   "id": "52840251",
   "metadata": {},
   "outputs": [
    {
     "data": {
      "text/plain": [
       "array([0.])"
      ]
     },
     "execution_count": 18,
     "metadata": {},
     "output_type": "execute_result"
    }
   ],
   "source": [
    "np.zeros(a.shape[0])"
   ]
  },
  {
   "cell_type": "code",
   "execution_count": 19,
   "id": "63670397",
   "metadata": {},
   "outputs": [
    {
     "data": {
      "text/plain": [
       "tensor([[1, 2, 3, 4, 5]])"
      ]
     },
     "execution_count": 19,
     "metadata": {},
     "output_type": "execute_result"
    }
   ],
   "source": [
    "b"
   ]
  },
  {
   "cell_type": "code",
   "execution_count": 20,
   "id": "657c5f33",
   "metadata": {},
   "outputs": [],
   "source": [
    "b = b.reshape(-1,1)"
   ]
  },
  {
   "cell_type": "code",
   "execution_count": 22,
   "id": "5b8e1cee",
   "metadata": {},
   "outputs": [
    {
     "data": {
      "text/plain": [
       "tensor([[1],\n",
       "        [2]])"
      ]
     },
     "execution_count": 22,
     "metadata": {},
     "output_type": "execute_result"
    }
   ],
   "source": [
    "b[0:2]"
   ]
  },
  {
   "cell_type": "code",
   "execution_count": 6,
   "id": "0b598a3f",
   "metadata": {},
   "outputs": [
    {
     "data": {
      "text/plain": [
       "tensor([[1, 2, 3, 4, 5]])"
      ]
     },
     "execution_count": 6,
     "metadata": {},
     "output_type": "execute_result"
    }
   ],
   "source": [
    "b.reshape(1,-1)"
   ]
  },
  {
   "cell_type": "code",
   "execution_count": null,
   "id": "582109fe",
   "metadata": {},
   "outputs": [],
   "source": []
  },
  {
   "cell_type": "code",
   "execution_count": 10,
   "id": "0db24d09",
   "metadata": {},
   "outputs": [
    {
     "data": {
      "text/plain": [
       "tensor([[ 5, 10, 15, 20, 25]])"
      ]
     },
     "execution_count": 10,
     "metadata": {},
     "output_type": "execute_result"
    }
   ],
   "source": [
    "b * torch.tensor(5)"
   ]
  },
  {
   "cell_type": "code",
   "execution_count": 13,
   "id": "f53fa573",
   "metadata": {},
   "outputs": [
    {
     "data": {
      "text/plain": [
       "array([ 1.,  2.,  3.,  4.,  5.,  6.,  7.,  8.,  9., 10.])"
      ]
     },
     "execution_count": 13,
     "metadata": {},
     "output_type": "execute_result"
    }
   ],
   "source": [
    "np.linspace(1,10,10)"
   ]
  },
  {
   "cell_type": "code",
   "execution_count": 3,
   "id": "ffa1a68c",
   "metadata": {},
   "outputs": [],
   "source": [
    "a = np.array([ [10,20],[15,10] ])"
   ]
  },
  {
   "cell_type": "code",
   "execution_count": 4,
   "id": "515e1fa9",
   "metadata": {},
   "outputs": [
    {
     "data": {
      "text/plain": [
       "array([[10, 20],\n",
       "       [15, 10]])"
      ]
     },
     "execution_count": 4,
     "metadata": {},
     "output_type": "execute_result"
    }
   ],
   "source": [
    "a"
   ]
  },
  {
   "cell_type": "code",
   "execution_count": null,
   "id": "b7cad0f7",
   "metadata": {},
   "outputs": [],
   "source": []
  }
 ],
 "metadata": {
  "kernelspec": {
   "display_name": "Python 3 (ipykernel)",
   "language": "python",
   "name": "python3"
  },
  "language_info": {
   "codemirror_mode": {
    "name": "ipython",
    "version": 3
   },
   "file_extension": ".py",
   "mimetype": "text/x-python",
   "name": "python",
   "nbconvert_exporter": "python",
   "pygments_lexer": "ipython3",
   "version": "3.8.10"
  }
 },
 "nbformat": 4,
 "nbformat_minor": 5
}
