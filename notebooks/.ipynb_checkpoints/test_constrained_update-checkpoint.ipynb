{
 "cells": [
  {
   "cell_type": "code",
   "execution_count": 1,
   "id": "2a925266",
   "metadata": {},
   "outputs": [
    {
     "name": "stderr",
     "output_type": "stream",
     "text": [
      "/home/hardik/Desktop/Research/Adversary-CBF/venv/lib/python3.8/site-packages/tqdm/auto.py:22: TqdmWarning: IProgress not found. Please update jupyter and ipywidgets. See https://ipywidgets.readthedocs.io/en/stable/user_install.html\n",
      "  from .autonotebook import tqdm as notebook_tqdm\n"
     ]
    }
   ],
   "source": [
    "import cvxpy as cp\n",
    "import numpy as np\n",
    "import torch\n",
    "from matplotlib import pyplot as plt\n",
    "%matplotlib inline\n",
    "%load_ext autoreload\n",
    "%autoreload 2"
   ]
  },
  {
   "cell_type": "code",
   "execution_count": 2,
   "id": "cfea877f",
   "metadata": {},
   "outputs": [
    {
     "data": {
      "text/plain": [
       "1"
      ]
     },
     "execution_count": 2,
     "metadata": {},
     "output_type": "execute_result"
    }
   ],
   "source": [
    "17 % 2"
   ]
  },
  {
   "cell_type": "code",
   "execution_count": 3,
   "id": "993b6629",
   "metadata": {},
   "outputs": [
    {
     "data": {
      "text/plain": [
       "True"
      ]
     },
     "execution_count": 3,
     "metadata": {},
     "output_type": "execute_result"
    }
   ],
   "source": [
    "17 != 1"
   ]
  },
  {
   "cell_type": "code",
   "execution_count": 4,
   "id": "21a4207c",
   "metadata": {},
   "outputs": [],
   "source": [
    "a = np.array([1,2])"
   ]
  },
  {
   "cell_type": "code",
   "execution_count": 5,
   "id": "7ad5e98c",
   "metadata": {},
   "outputs": [],
   "source": [
    "b = np.copy(a)"
   ]
  },
  {
   "cell_type": "code",
   "execution_count": 6,
   "id": "9dc08844",
   "metadata": {},
   "outputs": [],
   "source": [
    "b[0] = 3"
   ]
  },
  {
   "cell_type": "code",
   "execution_count": 7,
   "id": "4180d39c",
   "metadata": {},
   "outputs": [
    {
     "data": {
      "text/plain": [
       "array([1, 2])"
      ]
     },
     "execution_count": 7,
     "metadata": {},
     "output_type": "execute_result"
    }
   ],
   "source": [
    "a"
   ]
  },
  {
   "cell_type": "code",
   "execution_count": 26,
   "id": "db8b2879",
   "metadata": {},
   "outputs": [
    {
     "data": {
      "text/plain": [
       "array([0.99899998])"
      ]
     },
     "execution_count": 26,
     "metadata": {},
     "output_type": "execute_result"
    }
   ],
   "source": [
    "x = cp.Variable(1)\n",
    "p = cp.Parameter(1)\n",
    "quadratic = cp.square(x)\n",
    "p.value = np.array([0.001])\n",
    "const = [x <= 1]\n",
    "const += [x >= 1 - p]\n",
    "problem = cp.Problem(cp.Minimize(quadratic), const)\n",
    "problem.solve(requires_grad=True)\n",
    "x.value"
   ]
  },
  {
   "cell_type": "code",
   "execution_count": 27,
   "id": "4dcef779",
   "metadata": {},
   "outputs": [
    {
     "name": "stdout",
     "output_type": "stream",
     "text": [
      "The gradient is [-0.99999985].\n"
     ]
    }
   ],
   "source": [
    "problem.backward()\n",
    "print(\"The gradient is {}.\".format(p.gradient))"
   ]
  },
  {
   "cell_type": "code",
   "execution_count": 18,
   "id": "58c6c089",
   "metadata": {},
   "outputs": [
    {
     "data": {
      "text/plain": [
       "array([-0.99999974])"
      ]
     },
     "execution_count": 18,
     "metadata": {},
     "output_type": "execute_result"
    }
   ],
   "source": [
    "p.gradient"
   ]
  },
  {
   "cell_type": "code",
   "execution_count": 11,
   "id": "bd998412",
   "metadata": {},
   "outputs": [
    {
     "data": {
      "text/plain": [
       "'1.12.0+cu102'"
      ]
     },
     "execution_count": 11,
     "metadata": {},
     "output_type": "execute_result"
    }
   ],
   "source": [
    "torch.__version__"
   ]
  },
  {
   "cell_type": "code",
   "execution_count": 12,
   "id": "1f0e1799",
   "metadata": {},
   "outputs": [],
   "source": [
    "a = torch.tensor([[2]])"
   ]
  },
  {
   "cell_type": "code",
   "execution_count": 13,
   "id": "fd277959",
   "metadata": {},
   "outputs": [
    {
     "data": {
      "text/plain": [
       "tensor([[2.]])"
      ]
     },
     "execution_count": 13,
     "metadata": {},
     "output_type": "execute_result"
    }
   ],
   "source": [
    "torch.div(a,a-1)"
   ]
  },
  {
   "cell_type": "code",
   "execution_count": 2,
   "id": "5493febb",
   "metadata": {},
   "outputs": [],
   "source": [
    "import gpytorch\n",
    "import math"
   ]
  },
  {
   "cell_type": "code",
   "execution_count": 72,
   "id": "28690fe1",
   "metadata": {},
   "outputs": [],
   "source": [
    "# Training data is 100 points in [0,1] inclusive regularly spaced\n",
    "train_x = torch.linspace(0, 1, 100)\n",
    "# True function is sin(2*pi*x) with Gaussian noise\n",
    "train_y = torch.sin(train_x * (2 * math.pi)) + torch.randn(train_x.size()) * math.sqrt(0.04)"
   ]
  },
  {
   "cell_type": "code",
   "execution_count": 288,
   "id": "4a72f096",
   "metadata": {},
   "outputs": [],
   "source": [
    "A = torch.tensor(np.array([1,2]))\n",
    "x = torch.tensor([2,2],requires_grad=True,dtype=torch.float)"
   ]
  },
  {
   "cell_type": "code",
   "execution_count": 295,
   "id": "46fab5c8",
   "metadata": {},
   "outputs": [],
   "source": [
    "a = x[0] #torch.square(x[0]) * 5\n",
    "b = torch.tensor([[3]],requires_grad=True,dtype=torch.float)"
   ]
  },
  {
   "cell_type": "code",
   "execution_count": 296,
   "id": "a1e5fb79",
   "metadata": {},
   "outputs": [],
   "source": [
    "a = torch.cat((a.reshape((1,1)),b))"
   ]
  },
  {
   "cell_type": "code",
   "execution_count": 301,
   "id": "4a6f7bd5",
   "metadata": {},
   "outputs": [
    {
     "data": {
      "text/plain": [
       "tensor([[2.],\n",
       "        [3.]], grad_fn=<CatBackward0>)"
      ]
     },
     "execution_count": 301,
     "metadata": {},
     "output_type": "execute_result"
    }
   ],
   "source": [
    "a"
   ]
  },
  {
   "cell_type": "code",
   "execution_count": 305,
   "id": "32534afc",
   "metadata": {},
   "outputs": [
    {
     "data": {
      "text/plain": [
       "tensor(2., grad_fn=<SelectBackward0>)"
      ]
     },
     "execution_count": 305,
     "metadata": {},
     "output_type": "execute_result"
    }
   ],
   "source": [
    "x[0]"
   ]
  },
  {
   "cell_type": "code",
   "execution_count": 303,
   "id": "a56cfa8a",
   "metadata": {},
   "outputs": [],
   "source": [
    "with torch.enable_grad():\n",
    "    a.sum().backward()"
   ]
  },
  {
   "cell_type": "code",
   "execution_count": 299,
   "id": "a5ee4d20",
   "metadata": {},
   "outputs": [
    {
     "data": {
      "text/plain": [
       "tensor([[1.]])"
      ]
     },
     "execution_count": 299,
     "metadata": {},
     "output_type": "execute_result"
    }
   ],
   "source": [
    "b.grad"
   ]
  },
  {
   "cell_type": "code",
   "execution_count": 300,
   "id": "495582f7",
   "metadata": {},
   "outputs": [
    {
     "data": {
      "text/plain": [
       "tensor([21.,  0.])"
      ]
     },
     "execution_count": 300,
     "metadata": {},
     "output_type": "execute_result"
    }
   ],
   "source": [
    "x.grad"
   ]
  },
  {
   "cell_type": "code",
   "execution_count": 134,
   "id": "3863ac3f",
   "metadata": {},
   "outputs": [],
   "source": [
    "x[0].grad\n",
    "preds = model(testX)\n",
    "f_mean = f_preds.mean\n",
    "f_covar = f_preds.covariance_matrix\n"
   ]
  },
  {
   "cell_type": "code",
   "execution_count": 309,
   "id": "bbe07531",
   "metadata": {},
   "outputs": [],
   "source": [
    "# Training data is 100 points in [0,1] inclusive regularly spaced\n",
    "train_x = torch.linspace(0, 1, 100)\n",
    "# True function is sin(2*pi*x) with Gaussian noise\n",
    "train_y = torch.sin(train_x * (2 * math.pi)) + torch.randn(train_x.size()) * math.sqrt(0.04)"
   ]
  },
  {
   "cell_type": "code",
   "execution_count": 310,
   "id": "a8f99860",
   "metadata": {},
   "outputs": [
    {
     "name": "stdout",
     "output_type": "stream",
     "text": [
      "Iter 1/30 - Loss: 0.954   lengthscale: 0.693   noise: 0.693\n",
      "Iter 2/30 - Loss: 0.923   lengthscale: 0.644   noise: 0.644\n",
      "Iter 3/30 - Loss: 0.888   lengthscale: 0.598   noise: 0.598\n",
      "Iter 4/30 - Loss: 0.849   lengthscale: 0.555   noise: 0.554\n",
      "Iter 5/30 - Loss: 0.805   lengthscale: 0.514   noise: 0.513\n",
      "Iter 6/30 - Loss: 0.755   lengthscale: 0.475   noise: 0.474\n",
      "Iter 7/30 - Loss: 0.700   lengthscale: 0.439   noise: 0.437\n",
      "Iter 8/30 - Loss: 0.644   lengthscale: 0.405   noise: 0.402\n",
      "Iter 9/30 - Loss: 0.590   lengthscale: 0.372   noise: 0.369\n",
      "Iter 10/30 - Loss: 0.541   lengthscale: 0.342   noise: 0.339\n",
      "Iter 11/30 - Loss: 0.497   lengthscale: 0.315   noise: 0.310\n",
      "Iter 12/30 - Loss: 0.457   lengthscale: 0.291   noise: 0.283\n",
      "Iter 13/30 - Loss: 0.420   lengthscale: 0.271   noise: 0.259\n",
      "Iter 14/30 - Loss: 0.384   lengthscale: 0.254   noise: 0.236\n",
      "Iter 15/30 - Loss: 0.349   lengthscale: 0.241   noise: 0.215\n",
      "Iter 16/30 - Loss: 0.314   lengthscale: 0.230   noise: 0.196\n",
      "Iter 17/30 - Loss: 0.280   lengthscale: 0.221   noise: 0.178\n",
      "Iter 18/30 - Loss: 0.245   lengthscale: 0.215   noise: 0.162\n",
      "Iter 19/30 - Loss: 0.211   lengthscale: 0.211   noise: 0.147\n",
      "Iter 20/30 - Loss: 0.178   lengthscale: 0.208   noise: 0.133\n",
      "Iter 21/30 - Loss: 0.144   lengthscale: 0.207   noise: 0.121\n",
      "Iter 22/30 - Loss: 0.111   lengthscale: 0.208   noise: 0.110\n",
      "Iter 23/30 - Loss: 0.079   lengthscale: 0.210   noise: 0.100\n",
      "Iter 24/30 - Loss: 0.048   lengthscale: 0.213   noise: 0.090\n",
      "Iter 25/30 - Loss: 0.018   lengthscale: 0.217   noise: 0.082\n",
      "Iter 26/30 - Loss: -0.010   lengthscale: 0.223   noise: 0.075\n",
      "Iter 27/30 - Loss: -0.036   lengthscale: 0.229   noise: 0.068\n",
      "Iter 28/30 - Loss: -0.060   lengthscale: 0.237   noise: 0.062\n",
      "Iter 29/30 - Loss: -0.082   lengthscale: 0.245   noise: 0.057\n",
      "Iter 30/30 - Loss: -0.101   lengthscale: 0.254   noise: 0.052\n"
     ]
    }
   ],
   "source": [
    "class ExactGPModel(gpytorch.models.ExactGP):\n",
    "    def __init__(self, train_x, train_y, likelihood):\n",
    "        super(ExactGPModel, self).__init__(train_x, train_y, likelihood)\n",
    "        self.mean_module = gpytorch.means.ConstantMean()\n",
    "        self.covar_module = gpytorch.kernels.ScaleKernel(gpytorch.kernels.RBFKernel())\n",
    "\n",
    "    def forward(self, x):\n",
    "        mean_x = self.mean_module(x)\n",
    "        covar_x = self.covar_module(x)\n",
    "        return gpytorch.distributions.MultivariateNormal(mean_x, covar_x)\n",
    "\n",
    "# initialize likelihood and model\n",
    "likelihood = gpytorch.likelihoods.GaussianLikelihood()\n",
    "model = ExactGPModel(train_x, train_y, likelihood)\n",
    "\n",
    "# Use the adam optimizer\n",
    "optimizer = torch.optim.Adam(model.parameters(), lr=0.1)  # Includes GaussianLikelihood parameters\n",
    "\n",
    "\n",
    "# Find optimal model hyperparameters\n",
    "model.train()\n",
    "likelihood.train()\n",
    "\n",
    "# \"Loss\" for GPs - the marginal log likelihood\n",
    "mll = gpytorch.mlls.ExactMarginalLogLikelihood(likelihood, model)\n",
    "training_iter = 30\n",
    "for i in range(training_iter):\n",
    "    # Zero gradients from previous iteration\n",
    "    optimizer.zero_grad()\n",
    "    # Output from model\n",
    "    output = model(train_x)\n",
    "    # Calc loss and backprop gradients\n",
    "    loss = -mll(output, train_y)\n",
    "    loss.backward()\n",
    "    print('Iter %d/%d - Loss: %.3f   lengthscale: %.3f   noise: %.3f' % (\n",
    "        i + 1, training_iter, loss.item(),\n",
    "        model.covar_module.base_kernel.lengthscale.item(),\n",
    "        model.likelihood.noise.item()\n",
    "    ))\n",
    "    optimizer.step()"
   ]
  },
  {
   "cell_type": "code",
   "execution_count": 311,
   "id": "6a7453fd",
   "metadata": {},
   "outputs": [
    {
     "data": {
      "text/plain": [
       "GaussianLikelihood(\n",
       "  (noise_covar): HomoskedasticNoise(\n",
       "    (raw_noise_constraint): GreaterThan(1.000E-04)\n",
       "  )\n",
       ")"
      ]
     },
     "execution_count": 311,
     "metadata": {},
     "output_type": "execute_result"
    }
   ],
   "source": [
    "# Get into evaluation (predictive posterior) mode\n",
    "model.eval()\n",
    "likelihood.eval()"
   ]
  },
  {
   "cell_type": "code",
   "execution_count": 312,
   "id": "dfb60a3e",
   "metadata": {},
   "outputs": [],
   "source": [
    "# Test points are regularly spaced along [0,1]\n",
    "# Make predictions by feeding model through likelihood\n",
    "with gpytorch.settings.fast_pred_var():\n",
    "    test_x = torch.linspace(0, 1, 51, requires_grad=True)\n",
    "    observed_pred = likelihood(model(test_x))"
   ]
  },
  {
   "cell_type": "code",
   "execution_count": 313,
   "id": "60ae41d9",
   "metadata": {},
   "outputs": [
    {
     "data": {
      "image/png": "[encoded data removed]",
      "text/plain": [
       "<Figure size 288x216 with 1 Axes>"
      ]
     },
     "metadata": {
      "needs_background": "light"
     },
     "output_type": "display_data"
    }
   ],
   "source": [
    "with torch.no_grad():\n",
    "    # Initialize plot\n",
    "    f, ax = plt.subplots(1, 1, figsize=(4, 3))\n",
    "\n",
    "    # Get upper and lower confidence bounds\n",
    "    lower, upper = observed_pred.confidence_region()\n",
    "    # Plot training data as black stars\n",
    "    ax.plot(train_x.numpy(), train_y.numpy(), 'k*')\n",
    "    # Plot predictive means as blue line\n",
    "    ax.plot(test_x.numpy(), observed_pred.mean.numpy(), 'b')\n",
    "    # Shade between the lower and upper confidence bounds\n",
    "    ax.fill_between(test_x.numpy(), lower.numpy(), upper.numpy(), alpha=0.5)\n",
    "    ax.set_ylim([-3, 3])\n",
    "    ax.legend(['Observed Data', 'Mean', 'Confidence'])"
   ]
  },
  {
   "cell_type": "code",
   "execution_count": 321,
   "id": "69618df4",
   "metadata": {},
   "outputs": [
    {
     "data": {
      "text/plain": [
       "torch.Size([51, 51])"
      ]
     },
     "execution_count": 321,
     "metadata": {},
     "output_type": "execute_result"
    }
   ],
   "source": [
    "observed_pred.covariance_matrix[]"
   ]
  },
  {
   "cell_type": "code",
   "execution_count": 322,
   "id": "11b8b83c",
   "metadata": {},
   "outputs": [
    {
     "data": {
      "text/plain": [
       "torch.Size([51, 51])"
      ]
     },
     "execution_count": 322,
     "metadata": {},
     "output_type": "execute_result"
    }
   ],
   "source": [
    "model(test_x).covariance_matrix.shape"
   ]
  },
  {
   "cell_type": "code",
   "execution_count": 316,
   "id": "37bb4263",
   "metadata": {},
   "outputs": [
    {
     "data": {
      "text/plain": [
       "tensor([ 0.0567,  0.1624,  0.2707,  0.3795,  0.4868,  0.5905,  0.6884,  0.7784,\n",
       "         0.8585,  0.9270,  0.9820,  1.0223,  1.0468,  1.0545,  1.0451,  1.0184,\n",
       "         0.9747,  0.9145,  0.8386,  0.7484,  0.6453,  0.5310,  0.4075,  0.2768,\n",
       "         0.1413,  0.0033, -0.1349, -0.2709, -0.4023, -0.5270, -0.6426, -0.7474,\n",
       "        -0.8394, -0.9173, -0.9796, -1.0255, -1.0542, -1.0655, -1.0592, -1.0358,\n",
       "        -0.9960, -0.9407, -0.8712, -0.7892, -0.6964, -0.5949, -0.4868, -0.3743,\n",
       "        -0.2596, -0.1451, -0.0327], grad_fn=<ViewBackward0>)"
      ]
     },
     "execution_count": 316,
     "metadata": {},
     "output_type": "execute_result"
    }
   ],
   "source": [
    "likelihood(model(test_x)).mean.shape"
   ]
  },
  {
   "cell_type": "code",
   "execution_count": null,
   "id": "85ea7b6a",
   "metadata": {},
   "outputs": [],
   "source": []
  },
  {
   "cell_type": "code",
   "execution_count": 243,
   "id": "308102b0",
   "metadata": {},
   "outputs": [],
   "source": [
    "# Training data is 100 points in [0,1] inclusive regularly spaced\n",
    "train_x =  torch.cat ( (torch.linspace(0, 1, 100).reshape(-1,1),  torch.linspace(-0.5, 0.5, 100).reshape(-1,1)), 1 )\n",
    "# True function is sin(2*pi*x) with Gaussian noise\n",
    "train_y = torch.sin(train_x[:,0] * (2 * math.pi)) + train_x[:,1] * 3 +  torch.randn(train_x.size()[0]) * math.sqrt(0.04)"
   ]
  },
  {
   "cell_type": "code",
   "execution_count": 244,
   "id": "15941f59",
   "metadata": {},
   "outputs": [
    {
     "data": {
      "text/plain": [
       "tensor([-1.9435e+00, -1.6642e+00, -1.3885e+00, -9.1477e-01, -8.9229e-01,\n",
       "        -1.2218e+00, -9.8330e-01, -1.3705e+00, -8.0258e-01, -4.7033e-01,\n",
       "        -6.1223e-01, -3.9923e-01, -6.0768e-01, -6.8359e-01, -2.5790e-02,\n",
       "        -5.2378e-01, -6.0159e-02, -8.7785e-02, -1.6056e-01,  8.4152e-02,\n",
       "         1.2648e-01,  1.8063e-01,  4.9475e-01,  9.3538e-02,  3.4815e-01,\n",
       "         4.5323e-01,  2.5936e-01,  3.4477e-01,  3.2682e-01,  2.8664e-01,\n",
       "         4.0270e-01,  5.4730e-01,  6.0069e-01,  6.0073e-01,  3.8974e-01,\n",
       "         1.8194e-01,  3.0586e-01,  3.3457e-01,  3.9940e-01, -6.8730e-03,\n",
       "         2.2894e-01,  1.3164e-01,  4.5387e-01,  2.6800e-01,  1.4775e-01,\n",
       "         3.1796e-01,  5.7168e-04,  1.9722e-01,  4.6249e-01, -6.7449e-02,\n",
       "        -1.3187e-01, -1.8685e-01, -5.4136e-01, -3.9378e-01,  2.8493e-01,\n",
       "         4.6386e-02, -3.0435e-01, -1.1964e-01, -6.5248e-02, -9.7795e-02,\n",
       "        -3.0824e-01, -1.4589e-01, -4.5584e-01, -1.9308e-01, -1.0430e-01,\n",
       "        -3.1927e-01, -2.7763e-01, -3.8075e-03, -3.1990e-01, -5.2605e-01,\n",
       "        -4.2528e-01, -2.1438e-01,  8.5909e-02, -1.3651e-01, -1.5532e-01,\n",
       "        -1.4905e-01, -2.4878e-01, -3.1540e-01, -8.6207e-02,  7.5936e-02,\n",
       "        -1.6345e-01, -1.4696e-01,  8.1797e-03,  3.7329e-01,  4.0507e-01,\n",
       "         1.3834e-01,  4.9322e-01,  7.2264e-01,  8.5900e-01,  1.0777e+00,\n",
       "         9.4737e-01,  6.9152e-01,  8.1031e-01,  8.5715e-01,  9.0524e-01,\n",
       "         7.9825e-01,  1.2451e+00,  1.1646e+00,  1.3745e+00,  1.6004e+00])"
      ]
     },
     "execution_count": 244,
     "metadata": {},
     "output_type": "execute_result"
    }
   ],
   "source": [
    "train_y"
   ]
  },
  {
   "cell_type": "code",
   "execution_count": 245,
   "id": "a68605b2",
   "metadata": {},
   "outputs": [],
   "source": [
    "model = ExactGPModel(train_x, train_y, likelihood)"
   ]
  },
  {
   "cell_type": "code",
   "execution_count": 246,
   "id": "f51ced30",
   "metadata": {},
   "outputs": [
    {
     "name": "stdout",
     "output_type": "stream",
     "text": [
      "Iter 1/30 - Loss: 0.396   lengthscale: 0.693   noise: 0.048\n",
      "Iter 2/30 - Loss: 0.398   lengthscale: 0.693   noise: 0.045\n",
      "Iter 3/30 - Loss: 0.401   lengthscale: 0.693   noise: 0.042\n",
      "Iter 4/30 - Loss: 0.405   lengthscale: 0.693   noise: 0.039\n",
      "Iter 5/30 - Loss: 0.410   lengthscale: 0.693   noise: 0.037\n",
      "Iter 6/30 - Loss: 0.415   lengthscale: 0.693   noise: 0.036\n",
      "Iter 7/30 - Loss: 0.420   lengthscale: 0.693   noise: 0.034\n",
      "Iter 8/30 - Loss: 0.424   lengthscale: 0.693   noise: 0.034\n",
      "Iter 9/30 - Loss: 0.427   lengthscale: 0.693   noise: 0.033\n",
      "Iter 10/30 - Loss: 0.428   lengthscale: 0.693   noise: 0.033\n",
      "Iter 11/30 - Loss: 0.429   lengthscale: 0.693   noise: 0.032\n",
      "Iter 12/30 - Loss: 0.429   lengthscale: 0.693   noise: 0.032\n",
      "Iter 13/30 - Loss: 0.427   lengthscale: 0.693   noise: 0.033\n",
      "Iter 14/30 - Loss: 0.425   lengthscale: 0.693   noise: 0.033\n",
      "Iter 15/30 - Loss: 0.422   lengthscale: 0.693   noise: 0.034\n",
      "Iter 16/30 - Loss: 0.419   lengthscale: 0.693   noise: 0.035\n",
      "Iter 17/30 - Loss: 0.416   lengthscale: 0.693   noise: 0.036\n",
      "Iter 18/30 - Loss: 0.412   lengthscale: 0.693   noise: 0.037\n",
      "Iter 19/30 - Loss: 0.409   lengthscale: 0.693   noise: 0.038\n",
      "Iter 20/30 - Loss: 0.406   lengthscale: 0.693   noise: 0.039\n",
      "Iter 21/30 - Loss: 0.404   lengthscale: 0.693   noise: 0.040\n",
      "Iter 22/30 - Loss: 0.402   lengthscale: 0.693   noise: 0.041\n",
      "Iter 23/30 - Loss: 0.400   lengthscale: 0.693   noise: 0.043\n",
      "Iter 24/30 - Loss: 0.399   lengthscale: 0.693   noise: 0.044\n",
      "Iter 25/30 - Loss: 0.398   lengthscale: 0.693   noise: 0.045\n",
      "Iter 26/30 - Loss: 0.397   lengthscale: 0.693   noise: 0.046\n",
      "Iter 27/30 - Loss: 0.397   lengthscale: 0.693   noise: 0.048\n",
      "Iter 28/30 - Loss: 0.396   lengthscale: 0.693   noise: 0.049\n",
      "Iter 29/30 - Loss: 0.396   lengthscale: 0.693   noise: 0.050\n",
      "Iter 30/30 - Loss: 0.396   lengthscale: 0.693   noise: 0.051\n"
     ]
    },
    {
     "data": {
      "text/plain": [
       "GaussianLikelihood(\n",
       "  (noise_covar): HomoskedasticNoise(\n",
       "    (raw_noise_constraint): GreaterThan(1.000E-04)\n",
       "  )\n",
       ")"
      ]
     },
     "execution_count": 246,
     "metadata": {},
     "output_type": "execute_result"
    }
   ],
   "source": [
    "\n",
    "# Find optimal model hyperparameters\n",
    "model.train()\n",
    "likelihood.train()\n",
    "\n",
    "# \"Loss\" for GPs - the marginal log likelihood\n",
    "mll = gpytorch.mlls.ExactMarginalLogLikelihood(likelihood, model)\n",
    "training_iter = 30\n",
    "for i in range(training_iter):\n",
    "    # Zero gradients from previous iteration\n",
    "    optimizer.zero_grad()\n",
    "    # Output from model\n",
    "    output = model(train_x)\n",
    "    # Calc loss and backprop gradients\n",
    "    loss = -mll(output, train_y)\n",
    "    loss.backward()\n",
    "    print('Iter %d/%d - Loss: %.3f   lengthscale: %.3f   noise: %.3f' % (\n",
    "        i + 1, training_iter, loss.item(),\n",
    "        model.covar_module.base_kernel.lengthscale.item(),\n",
    "        model.likelihood.noise.item()\n",
    "    ))\n",
    "    optimizer.step()\n",
    "# Get into evaluation (predictive posterior) mode\n",
    "model.eval()\n",
    "likelihood.eval()"
   ]
  },
  {
   "cell_type": "code",
   "execution_count": 255,
   "id": "f9a68ca7",
   "metadata": {},
   "outputs": [],
   "source": [
    "# Test points are regularly spaced along [0,1]\n",
    "# Make predictions by feeding model through likelihood\n",
    "with gpytorch.settings.fast_pred_var():\n",
    "    test_x = torch.tensor( np.append( np.linspace(0,1,51).reshape(-1,1), np.linspace(-0.5,0.5,51).reshape(-1,1) , axis=1)  , requires_grad=True, dtype=torch.float)\n",
    "    observed_pred = likelihood(model(test_x))"
   ]
  },
  {
   "cell_type": "code",
   "execution_count": 248,
   "id": "255e7637",
   "metadata": {},
   "outputs": [],
   "source": [
    "test_x = torch.tensor( np.append( np.linspace(0,1,51).reshape(-1,1), np.linspace(-0.5,0.5,51).reshape(-1,1) , axis=1)  , requires_grad=True, dtype=torch.float)"
   ]
  },
  {
   "cell_type": "code",
   "execution_count": 249,
   "id": "7674ed83",
   "metadata": {},
   "outputs": [
    {
     "name": "stderr",
     "output_type": "stream",
     "text": [
      "/home/hardik/Desktop/Research/Adversary-CBF/venv/lib/python3.8/site-packages/gpytorch/models/exact_gp.py:273: GPInputWarning: The input matches the stored training data. Did you forget to call model.train()?\n",
      "  warnings.warn(\n"
     ]
    },
    {
     "data": {
      "text/plain": [
       "MultivariateNormal(loc: torch.Size([100]))"
      ]
     },
     "execution_count": 249,
     "metadata": {},
     "output_type": "execute_result"
    }
   ],
   "source": [
    "model(train_x)"
   ]
  },
  {
   "cell_type": "code",
   "execution_count": 250,
   "id": "65ec2fa3",
   "metadata": {},
   "outputs": [
    {
     "data": {
      "text/plain": [
       "MultivariateNormal(loc: torch.Size([51]))"
      ]
     },
     "execution_count": 250,
     "metadata": {},
     "output_type": "execute_result"
    }
   ],
   "source": [
    "model(test_x)"
   ]
  },
  {
   "cell_type": "code",
   "execution_count": 252,
   "id": "dea334e5",
   "metadata": {},
   "outputs": [],
   "source": [
    "observed_pred = likelihood(model(test_x))"
   ]
  },
  {
   "cell_type": "code",
   "execution_count": 257,
   "id": "9660c54c",
   "metadata": {},
   "outputs": [
    {
     "data": {
      "text/plain": [
       "tensor([-1.3744, -1.2036, -1.0377, -0.8780, -0.7257, -0.5818, -0.4473, -0.3231,\n",
       "        -0.2098, -0.1082, -0.0186,  0.0588,  0.1236,  0.1761,  0.2163,  0.2447,\n",
       "         0.2618,  0.2681,  0.2645,  0.2520,  0.2315,  0.2042,  0.1714,  0.1343,\n",
       "         0.0943,  0.0528,  0.0112, -0.0292, -0.0670, -0.1008, -0.1293, -0.1515,\n",
       "        -0.1662, -0.1724, -0.1694, -0.1563, -0.1325, -0.0978, -0.0517,  0.0059,\n",
       "         0.0749,  0.1551,  0.2462,  0.3477,  0.4591,  0.5795,  0.7082,  0.8441,\n",
       "         0.9862,  1.1335,  1.2847], grad_fn=<ViewBackward0>)"
      ]
     },
     "execution_count": 257,
     "metadata": {},
     "output_type": "execute_result"
    }
   ],
   "source": [
    "observed_pred.mean"
   ]
  },
  {
   "cell_type": "code",
   "execution_count": 260,
   "id": "90976939",
   "metadata": {},
   "outputs": [],
   "source": [
    "observed_pred.mean[0].sum().backward()"
   ]
  },
  {
   "cell_type": "code",
   "execution_count": 338,
   "id": "8fbd7fa4",
   "metadata": {},
   "outputs": [],
   "source": [
    "# test_x.grad"
   ]
  },
  {
   "cell_type": "code",
   "execution_count": 270,
   "id": "5c888dfc",
   "metadata": {},
   "outputs": [
    {
     "ename": "AxisError",
     "evalue": "axis 1 is out of bounds for array of dimension 1",
     "output_type": "error",
     "traceback": [
      "\u001b[0;31m---------------------------------------------------------------------------\u001b[0m",
      "\u001b[0;31mAxisError\u001b[0m                                 Traceback (most recent call last)",
      "Input \u001b[0;32mIn [270]\u001b[0m, in \u001b[0;36m<cell line: 2>\u001b[0;34m()\u001b[0m\n\u001b[1;32m      1\u001b[0m a \u001b[38;5;241m=\u001b[39m []\n\u001b[0;32m----> 2\u001b[0m a \u001b[38;5;241m=\u001b[39m \u001b[43mnp\u001b[49m\u001b[38;5;241;43m.\u001b[39;49m\u001b[43mappend\u001b[49m\u001b[43m(\u001b[49m\u001b[43ma\u001b[49m\u001b[43m,\u001b[49m\u001b[43mnp\u001b[49m\u001b[38;5;241;43m.\u001b[39;49m\u001b[43marray\u001b[49m\u001b[43m(\u001b[49m\u001b[43m[\u001b[49m\u001b[38;5;241;43m1\u001b[39;49m\u001b[43m,\u001b[49m\u001b[38;5;241;43m2\u001b[39;49m\u001b[43m]\u001b[49m\u001b[43m)\u001b[49m\u001b[38;5;241;43m.\u001b[39;49m\u001b[43mreshape\u001b[49m\u001b[43m(\u001b[49m\u001b[38;5;241;43m-\u001b[39;49m\u001b[38;5;241;43m1\u001b[39;49m\u001b[43m,\u001b[49m\u001b[38;5;241;43m1\u001b[39;49m\u001b[43m)\u001b[49m\u001b[43m,\u001b[49m\u001b[43m \u001b[49m\u001b[43maxis\u001b[49m\u001b[38;5;241;43m=\u001b[39;49m\u001b[38;5;241;43m1\u001b[39;49m\u001b[43m)\u001b[49m\n",
      "File \u001b[0;32m<__array_function__ internals>:180\u001b[0m, in \u001b[0;36mappend\u001b[0;34m(*args, **kwargs)\u001b[0m\n",
      "File \u001b[0;32m~/Desktop/Research/Adversary-CBF/venv/lib/python3.8/site-packages/numpy/lib/function_base.py:5392\u001b[0m, in \u001b[0;36mappend\u001b[0;34m(arr, values, axis)\u001b[0m\n\u001b[1;32m   5390\u001b[0m     values \u001b[38;5;241m=\u001b[39m ravel(values)\n\u001b[1;32m   5391\u001b[0m     axis \u001b[38;5;241m=\u001b[39m arr\u001b[38;5;241m.\u001b[39mndim\u001b[38;5;241m-\u001b[39m\u001b[38;5;241m1\u001b[39m\n\u001b[0;32m-> 5392\u001b[0m \u001b[38;5;28;01mreturn\u001b[39;00m \u001b[43mconcatenate\u001b[49m\u001b[43m(\u001b[49m\u001b[43m(\u001b[49m\u001b[43marr\u001b[49m\u001b[43m,\u001b[49m\u001b[43m \u001b[49m\u001b[43mvalues\u001b[49m\u001b[43m)\u001b[49m\u001b[43m,\u001b[49m\u001b[43m \u001b[49m\u001b[43maxis\u001b[49m\u001b[38;5;241;43m=\u001b[39;49m\u001b[43maxis\u001b[49m\u001b[43m)\u001b[49m\n",
      "File \u001b[0;32m<__array_function__ internals>:180\u001b[0m, in \u001b[0;36mconcatenate\u001b[0;34m(*args, **kwargs)\u001b[0m\n",
      "\u001b[0;31mAxisError\u001b[0m: axis 1 is out of bounds for array of dimension 1"
     ]
    }
   ],
   "source": [
    "a = []\n",
    "a = np.append(a,np.array([1,2]).reshape(-1,1), axis=1)"
   ]
  },
  {
   "cell_type": "code",
   "execution_count": 269,
   "id": "239dde1c",
   "metadata": {},
   "outputs": [
    {
     "data": {
      "text/plain": [
       "array([1., 2.])"
      ]
     },
     "execution_count": 269,
     "metadata": {},
     "output_type": "execute_result"
    }
   ],
   "source": [
    "a"
   ]
  },
  {
   "cell_type": "code",
   "execution_count": 271,
   "id": "7bdfd833",
   "metadata": {},
   "outputs": [],
   "source": [
    "a = np.append( np.ones((2,2)), np.zeros((2,2)), axis=1 )"
   ]
  },
  {
   "cell_type": "code",
   "execution_count": 277,
   "id": "62b85c6d",
   "metadata": {},
   "outputs": [
    {
     "data": {
      "text/plain": [
       "array([1., 1., 0., 0.])"
      ]
     },
     "execution_count": 277,
     "metadata": {},
     "output_type": "execute_result"
    }
   ],
   "source": [
    "a[0,-6:]"
   ]
  },
  {
   "cell_type": "code",
   "execution_count": 274,
   "id": "9babc932",
   "metadata": {},
   "outputs": [
    {
     "data": {
      "text/plain": [
       "array([1., 1., 0., 0.])"
      ]
     },
     "execution_count": 274,
     "metadata": {},
     "output_type": "execute_result"
    }
   ],
   "source": [
    "a[0,:]"
   ]
  },
  {
   "cell_type": "code",
   "execution_count": 282,
   "id": "bc96d746",
   "metadata": {},
   "outputs": [
    {
     "name": "stdout",
     "output_type": "stream",
     "text": [
      "1\n",
      "2\n",
      "3\n",
      "4\n"
     ]
    }
   ],
   "source": [
    "for i in range(1,5):\n",
    "    print(i)"
   ]
  },
  {
   "cell_type": "code",
   "execution_count": 285,
   "id": "ebd8a268",
   "metadata": {},
   "outputs": [
    {
     "data": {
      "text/plain": [
       "True"
      ]
     },
     "execution_count": 285,
     "metadata": {},
     "output_type": "execute_result"
    }
   ],
   "source": [
    "a = 3\n",
    "type(a)==int"
   ]
  },
  {
   "cell_type": "code",
   "execution_count": 287,
   "id": "c425ecff",
   "metadata": {},
   "outputs": [
    {
     "data": {
      "text/plain": [
       "True"
      ]
     },
     "execution_count": 287,
     "metadata": {},
     "output_type": "execute_result"
    }
   ],
   "source": [
    "b = 'hello'\n",
    "type(b)==str"
   ]
  },
  {
   "cell_type": "code",
   "execution_count": 2,
   "id": "0c3ef064",
   "metadata": {},
   "outputs": [],
   "source": [
    "# To avoid copying things to GPU memory,\n",
    "# ideally allocate everything in torch on the GPU\n",
    "# and avoid non-torch function calls\n",
    "import torch\n",
    "from torchquad import MonteCarlo, set_up_backend\n",
    "\n",
    "#export CUDA_VISIBLE_DEVICES=\"\"\n",
    "# Enable GPU support if available and set the floating point precision\n",
    "# set_up_backend(\"torch\", data_type=\"float32\")\n",
    "\n",
    "# The function we want to integrate, in this example\n",
    "# f(x0,x1) = sin(x0) + e^x1 for x0=[0,1] and x1=[-1,1]\n",
    "# Note that the function needs to support multiple evaluations at once (first\n",
    "# dimension of x here)\n",
    "# Expected result here is ~3.2698\n",
    "def some_function(x):\n",
    "    return torch.sin(x[:, 0]) + torch.exp(x[:, 1])\n",
    "\n",
    "# Declare an integrator;\n",
    "# here we use the simple, stochastic Monte Carlo integration method\n",
    "mc = MonteCarlo()\n",
    "\n",
    "# Compute the function integral by sampling 10000 points over domain\n",
    "integral_value = mc.integrate(\n",
    "    some_function,\n",
    "    dim=2,\n",
    "    N=10000,\n",
    "    integration_domain=[[0, 1], [-1, 1]],\n",
    "    backend=\"torch\",\n",
    ")"
   ]
  },
  {
   "cell_type": "markdown",
   "id": "f2337d85",
   "metadata": {},
   "source": [
    "### Multivariate GP"
   ]
  },
  {
   "cell_type": "code",
   "execution_count": 2,
   "id": "afc85fa5",
   "metadata": {},
   "outputs": [
    {
     "name": "stdout",
     "output_type": "stream",
     "text": [
      "The autoreload extension is already loaded. To reload it, use:\n",
      "  %reload_ext autoreload\n"
     ]
    }
   ],
   "source": [
    "import math\n",
    "import torch\n",
    "import gpytorch\n",
    "from matplotlib import pyplot as plt\n",
    "\n",
    "%matplotlib inline\n",
    "%load_ext autoreload\n",
    "%autoreload 2"
   ]
  },
  {
   "cell_type": "markdown",
   "id": "e15f1624",
   "metadata": {},
   "source": [
    "### Generate Training Data"
   ]
  },
  {
   "cell_type": "code",
   "execution_count": 3,
   "id": "0bb54dde",
   "metadata": {},
   "outputs": [],
   "source": [
    "train_x = torch.linspace(0, 1, 100)\n",
    "\n",
    "train_y = torch.stack([\n",
    "    torch.sin(train_x * (2 * math.pi)) + torch.randn(train_x.size()) * 0.2,\n",
    "    torch.cos(train_x * (2 * math.pi)) + torch.randn(train_x.size()) * 0.2,\n",
    "], -1)"
   ]
  },
  {
   "cell_type": "markdown",
   "id": "64056675",
   "metadata": {},
   "source": [
    "### MultiVariate GPP class"
   ]
  },
  {
   "cell_type": "code",
   "execution_count": 4,
   "id": "01594604",
   "metadata": {},
   "outputs": [],
   "source": [
    "class MultitaskGPModel(gpytorch.models.ExactGP):\n",
    "    def __init__(self, train_x, train_y, likelihood):\n",
    "        super(MultitaskGPModel, self).__init__(train_x, train_y, likelihood)\n",
    "        self.mean_module = gpytorch.means.MultitaskMean(\n",
    "            gpytorch.means.ConstantMean(), num_tasks=2\n",
    "        )\n",
    "        self.covar_module = gpytorch.kernels.MultitaskKernel(\n",
    "            gpytorch.kernels.RBFKernel(), num_tasks=2, rank=1\n",
    "        )\n",
    "\n",
    "    def forward(self, x):\n",
    "        mean_x = self.mean_module(x)\n",
    "        covar_x = self.covar_module(x)\n",
    "        return gpytorch.distributions.MultitaskMultivariateNormal(mean_x, covar_x)\n",
    "\n",
    "\n",
    "likelihood = gpytorch.likelihoods.MultitaskGaussianLikelihood(num_tasks=2)\n",
    "model = MultitaskGPModel(train_x, train_y, likelihood)"
   ]
  },
  {
   "cell_type": "markdown",
   "id": "c6fd718d",
   "metadata": {},
   "source": [
    "### Train Hyperparameters"
   ]
  },
  {
   "cell_type": "code",
   "execution_count": 60,
   "id": "154cfec2",
   "metadata": {},
   "outputs": [
    {
     "name": "stdout",
     "output_type": "stream",
     "text": [
      "Iter 1/50 - Loss: 0.011\n",
      "Iter 2/50 - Loss: 0.000\n",
      "Iter 3/50 - Loss: -0.006\n",
      "Iter 4/50 - Loss: -0.008\n",
      "Iter 5/50 - Loss: -0.006\n",
      "Iter 6/50 - Loss: -0.005\n",
      "Iter 7/50 - Loss: -0.003\n",
      "Iter 8/50 - Loss: -0.003\n",
      "Iter 9/50 - Loss: -0.004\n",
      "Iter 10/50 - Loss: -0.005\n",
      "Iter 11/50 - Loss: -0.007\n",
      "Iter 12/50 - Loss: -0.008\n",
      "Iter 13/50 - Loss: -0.008\n",
      "Iter 14/50 - Loss: -0.008\n",
      "Iter 15/50 - Loss: -0.008\n",
      "Iter 16/50 - Loss: -0.007\n",
      "Iter 17/50 - Loss: -0.007\n",
      "Iter 18/50 - Loss: -0.007\n",
      "Iter 19/50 - Loss: -0.007\n",
      "Iter 20/50 - Loss: -0.007\n",
      "Iter 21/50 - Loss: -0.008\n",
      "Iter 22/50 - Loss: -0.008\n",
      "Iter 23/50 - Loss: -0.008\n",
      "Iter 24/50 - Loss: -0.008\n",
      "Iter 25/50 - Loss: -0.008\n",
      "Iter 26/50 - Loss: -0.008\n",
      "Iter 27/50 - Loss: -0.008\n",
      "Iter 28/50 - Loss: -0.008\n",
      "Iter 29/50 - Loss: -0.008\n",
      "Iter 30/50 - Loss: -0.008\n",
      "Iter 31/50 - Loss: -0.008\n",
      "Iter 32/50 - Loss: -0.008\n",
      "Iter 33/50 - Loss: -0.008\n",
      "Iter 34/50 - Loss: -0.008\n",
      "Iter 35/50 - Loss: -0.008\n",
      "Iter 36/50 - Loss: -0.008\n",
      "Iter 37/50 - Loss: -0.008\n",
      "Iter 38/50 - Loss: -0.008\n",
      "Iter 39/50 - Loss: -0.008\n",
      "Iter 40/50 - Loss: -0.008\n",
      "Iter 41/50 - Loss: -0.008\n",
      "Iter 42/50 - Loss: -0.008\n",
      "Iter 43/50 - Loss: -0.008\n",
      "Iter 44/50 - Loss: -0.008\n",
      "Iter 45/50 - Loss: -0.008\n",
      "Iter 46/50 - Loss: -0.008\n",
      "Iter 47/50 - Loss: -0.008\n",
      "Iter 48/50 - Loss: -0.008\n",
      "Iter 49/50 - Loss: -0.008\n",
      "Iter 50/50 - Loss: -0.008\n"
     ]
    }
   ],
   "source": [
    "# this is for running the notebook in our testing framework\n",
    "import os\n",
    "smoke_test = ('CI' in os.environ)\n",
    "training_iterations = 2 if smoke_test else 50\n",
    "\n",
    "\n",
    "# Find optimal model hyperparameters\n",
    "model.train()\n",
    "likelihood.train()\n",
    "\n",
    "# Use the adam optimizer\n",
    "optimizer = torch.optim.Adam(model.parameters(), lr=0.1)  # Includes GaussianLikelihood parameters\n",
    "\n",
    "# \"Loss\" for GPs - the marginal log likelihood\n",
    "mll = gpytorch.mlls.ExactMarginalLogLikelihood(likelihood, model)\n",
    "\n",
    "for i in range(training_iterations):\n",
    "    optimizer.zero_grad()\n",
    "    output = model(train_x)\n",
    "    loss = -mll(output, train_y)\n",
    "    loss.backward()\n",
    "    print('Iter %d/%d - Loss: %.3f' % (i + 1, training_iterations, loss.item()))\n",
    "    optimizer.step()\n"
   ]
  },
  {
   "cell_type": "markdown",
   "id": "d01ccee1",
   "metadata": {},
   "source": [
    "### Make predictions"
   ]
  },
  {
   "cell_type": "code",
   "execution_count": 48,
   "id": "c02e61cb",
   "metadata": {},
   "outputs": [],
   "source": [
    "# Set into eval mode\n",
    "model.eval()\n",
    "likelihood.eval()\n",
    "test_x = torch.tensor([3], dtype=torch.float, requires_grad=True)\n",
    "predictions = model(test_x)\n",
    "mu = predictions.mean"
   ]
  },
  {
   "cell_type": "code",
   "execution_count": 58,
   "id": "b83b8c78",
   "metadata": {},
   "outputs": [
    {
     "data": {
      "text/plain": [
       "<bound method Tensor.backward of tensor(0.2173, grad_fn=<SumBackward0>)>"
      ]
     },
     "execution_count": 58,
     "metadata": {},
     "output_type": "execute_result"
    }
   ],
   "source": [
    "mu.sum().backward"
   ]
  },
  {
   "cell_type": "code",
   "execution_count": 57,
   "id": "16425a35",
   "metadata": {},
   "outputs": [
    {
     "data": {
      "text/plain": [
       "tensor([1.2358e-12])"
      ]
     },
     "execution_count": 57,
     "metadata": {},
     "output_type": "execute_result"
    }
   ],
   "source": [
    "test_x.grad"
   ]
  },
  {
   "cell_type": "code",
   "execution_count": 51,
   "id": "5e2b2793",
   "metadata": {},
   "outputs": [
    {
     "data": {
      "text/plain": [
       "tensor([[0.0149, 0.2024]], grad_fn=<ViewBackward0>)"
      ]
     },
     "execution_count": 51,
     "metadata": {},
     "output_type": "execute_result"
    }
   ],
   "source": [
    "mu"
   ]
  },
  {
   "cell_type": "code",
   "execution_count": 53,
   "id": "96728c05",
   "metadata": {},
   "outputs": [
    {
     "name": "stdout",
     "output_type": "stream",
     "text": [
      "mu tensor([[0.0149, 0.2024]], grad_fn=<ViewBackward0>)\n"
     ]
    },
    {
     "ename": "RuntimeError",
     "evalue": "Trying to backward through the graph a second time (or directly access saved tensors after they have already been freed). Saved intermediate values of the graph are freed when you call .backward() or autograd.grad(). Specify retain_graph=True if you need to backward through the graph a second time or if you need to access saved tensors after calling backward.",
     "output_type": "error",
     "traceback": [
      "\u001b[0;31m---------------------------------------------------------------------------\u001b[0m",
      "\u001b[0;31mRuntimeError\u001b[0m                              Traceback (most recent call last)",
      "Input \u001b[0;32mIn [53]\u001b[0m, in \u001b[0;36m<cell line: 1>\u001b[0;34m()\u001b[0m\n\u001b[1;32m      4\u001b[0m mu2 \u001b[38;5;241m=\u001b[39m predictions\u001b[38;5;241m.\u001b[39mmean\n\u001b[1;32m      5\u001b[0m \u001b[38;5;28mprint\u001b[39m(\u001b[38;5;124m\"\u001b[39m\u001b[38;5;124mmu\u001b[39m\u001b[38;5;124m\"\u001b[39m, mu)\n\u001b[0;32m----> 6\u001b[0m \u001b[43mmu2\u001b[49m\u001b[38;5;241;43m.\u001b[39;49m\u001b[43msum\u001b[49m\u001b[43m(\u001b[49m\u001b[43m)\u001b[49m\u001b[38;5;241;43m.\u001b[39;49m\u001b[43mbackward\u001b[49m\u001b[43m(\u001b[49m\u001b[43m)\u001b[49m\n\u001b[1;32m      7\u001b[0m \u001b[38;5;28mprint\u001b[39m(\u001b[38;5;124m\"\u001b[39m\u001b[38;5;124mtest grad\u001b[39m\u001b[38;5;124m\"\u001b[39m, test_x2\u001b[38;5;241m.\u001b[39mgrad)\n",
      "File \u001b[0;32m~/Desktop/Research/Adversary-CBF/venv/lib/python3.8/site-packages/torch/_tensor.py:396\u001b[0m, in \u001b[0;36mTensor.backward\u001b[0;34m(self, gradient, retain_graph, create_graph, inputs)\u001b[0m\n\u001b[1;32m    387\u001b[0m \u001b[38;5;28;01mif\u001b[39;00m has_torch_function_unary(\u001b[38;5;28mself\u001b[39m):\n\u001b[1;32m    388\u001b[0m     \u001b[38;5;28;01mreturn\u001b[39;00m handle_torch_function(\n\u001b[1;32m    389\u001b[0m         Tensor\u001b[38;5;241m.\u001b[39mbackward,\n\u001b[1;32m    390\u001b[0m         (\u001b[38;5;28mself\u001b[39m,),\n\u001b[0;32m   (...)\u001b[0m\n\u001b[1;32m    394\u001b[0m         create_graph\u001b[38;5;241m=\u001b[39mcreate_graph,\n\u001b[1;32m    395\u001b[0m         inputs\u001b[38;5;241m=\u001b[39minputs)\n\u001b[0;32m--> 396\u001b[0m \u001b[43mtorch\u001b[49m\u001b[38;5;241;43m.\u001b[39;49m\u001b[43mautograd\u001b[49m\u001b[38;5;241;43m.\u001b[39;49m\u001b[43mbackward\u001b[49m\u001b[43m(\u001b[49m\u001b[38;5;28;43mself\u001b[39;49m\u001b[43m,\u001b[49m\u001b[43m \u001b[49m\u001b[43mgradient\u001b[49m\u001b[43m,\u001b[49m\u001b[43m \u001b[49m\u001b[43mretain_graph\u001b[49m\u001b[43m,\u001b[49m\u001b[43m \u001b[49m\u001b[43mcreate_graph\u001b[49m\u001b[43m,\u001b[49m\u001b[43m \u001b[49m\u001b[43minputs\u001b[49m\u001b[38;5;241;43m=\u001b[39;49m\u001b[43minputs\u001b[49m\u001b[43m)\u001b[49m\n",
      "File \u001b[0;32m~/Desktop/Research/Adversary-CBF/venv/lib/python3.8/site-packages/torch/autograd/__init__.py:173\u001b[0m, in \u001b[0;36mbackward\u001b[0;34m(tensors, grad_tensors, retain_graph, create_graph, grad_variables, inputs)\u001b[0m\n\u001b[1;32m    168\u001b[0m     retain_graph \u001b[38;5;241m=\u001b[39m create_graph\n\u001b[1;32m    170\u001b[0m \u001b[38;5;66;03m# The reason we repeat same the comment below is that\u001b[39;00m\n\u001b[1;32m    171\u001b[0m \u001b[38;5;66;03m# some Python versions print out the first line of a multi-line function\u001b[39;00m\n\u001b[1;32m    172\u001b[0m \u001b[38;5;66;03m# calls in the traceback and some print out the last line\u001b[39;00m\n\u001b[0;32m--> 173\u001b[0m \u001b[43mVariable\u001b[49m\u001b[38;5;241;43m.\u001b[39;49m\u001b[43m_execution_engine\u001b[49m\u001b[38;5;241;43m.\u001b[39;49m\u001b[43mrun_backward\u001b[49m\u001b[43m(\u001b[49m\u001b[43m  \u001b[49m\u001b[38;5;66;43;03m# Calls into the C++ engine to run the backward pass\u001b[39;49;00m\n\u001b[1;32m    174\u001b[0m \u001b[43m    \u001b[49m\u001b[43mtensors\u001b[49m\u001b[43m,\u001b[49m\u001b[43m \u001b[49m\u001b[43mgrad_tensors_\u001b[49m\u001b[43m,\u001b[49m\u001b[43m \u001b[49m\u001b[43mretain_graph\u001b[49m\u001b[43m,\u001b[49m\u001b[43m \u001b[49m\u001b[43mcreate_graph\u001b[49m\u001b[43m,\u001b[49m\u001b[43m \u001b[49m\u001b[43minputs\u001b[49m\u001b[43m,\u001b[49m\n\u001b[1;32m    175\u001b[0m \u001b[43m    \u001b[49m\u001b[43mallow_unreachable\u001b[49m\u001b[38;5;241;43m=\u001b[39;49m\u001b[38;5;28;43;01mTrue\u001b[39;49;00m\u001b[43m,\u001b[49m\u001b[43m \u001b[49m\u001b[43maccumulate_grad\u001b[49m\u001b[38;5;241;43m=\u001b[39;49m\u001b[38;5;28;43;01mTrue\u001b[39;49;00m\u001b[43m)\u001b[49m\n",
      "\u001b[0;31mRuntimeError\u001b[0m: Trying to backward through the graph a second time (or directly access saved tensors after they have already been freed). Saved intermediate values of the graph are freed when you call .backward() or autograd.grad(). Specify retain_graph=True if you need to backward through the graph a second time or if you need to access saved tensors after calling backward."
     ]
    }
   ],
   "source": [
    "with gpytorch.settings.fast_pred_var():\n",
    "    test_x2 = torch.tensor([51], dtype=torch.float, requires_grad=True)\n",
    "    predictions2 = model(test_x2)\n",
    "    mu2 = predictions.mean\n",
    "    print(\"mu\", mu)\n",
    "    mu2.sum().backward()\n",
    "    print(\"test grad\", test_x2.grad)"
   ]
  },
  {
   "cell_type": "code",
   "execution_count": 61,
   "id": "bd9ae971",
   "metadata": {},
   "outputs": [
    {
     "ename": "AttributeError",
     "evalue": "__enter__",
     "output_type": "error",
     "traceback": [
      "\u001b[0;31m---------------------------------------------------------------------------\u001b[0m",
      "\u001b[0;31mAttributeError\u001b[0m                            Traceback (most recent call last)",
      "Input \u001b[0;32mIn [61]\u001b[0m, in \u001b[0;36m<cell line: 9>\u001b[0;34m()\u001b[0m\n\u001b[1;32m      6\u001b[0m f, (y1_ax, y2_ax) \u001b[38;5;241m=\u001b[39m plt\u001b[38;5;241m.\u001b[39msubplots(\u001b[38;5;241m1\u001b[39m, \u001b[38;5;241m2\u001b[39m, figsize\u001b[38;5;241m=\u001b[39m(\u001b[38;5;241m8\u001b[39m, \u001b[38;5;241m3\u001b[39m))\n\u001b[1;32m      8\u001b[0m \u001b[38;5;66;03m# Make predictions\u001b[39;00m\n\u001b[0;32m----> 9\u001b[0m \u001b[38;5;28;01mwith\u001b[39;00m \u001b[38;5;241m1\u001b[39m:\u001b[38;5;66;03m#torch.no_grad(), gpytorch.settings.fast_pred_var():\u001b[39;00m\n\u001b[1;32m     10\u001b[0m     test_x \u001b[38;5;241m=\u001b[39m torch\u001b[38;5;241m.\u001b[39mlinspace(\u001b[38;5;241m0\u001b[39m, \u001b[38;5;241m1\u001b[39m, \u001b[38;5;241m51\u001b[39m)\n\u001b[1;32m     11\u001b[0m     test_x\u001b[38;5;241m.\u001b[39mretain_grad()\n",
      "\u001b[0;31mAttributeError\u001b[0m: __enter__"
     ]
    },
    {
     "data": {
      "image/png": "[encoded data removed]",
      "text/plain": [
       "<Figure size 576x216 with 2 Axes>"
      ]
     },
     "metadata": {
      "needs_background": "light"
     },
     "output_type": "display_data"
    }
   ],
   "source": [
    "# Set into eval mode\n",
    "model.eval()\n",
    "likelihood.eval()\n",
    "\n",
    "# Initialize plots\n",
    "f, (y1_ax, y2_ax) = plt.subplots(1, 2, figsize=(8, 3))\n",
    "\n",
    "# Make predictions\n",
    "with 1:#torch.no_grad(), gpytorch.settings.fast_pred_var():\n",
    "    test_x = torch.linspace(0, 1, 51)\n",
    "#     test_x.retain_grad()\n",
    "    predictions = likelihood(model(test_x))\n",
    "    mean = predictions.mean\n",
    "    lower, upper = predictions.confidence_region()\n",
    "\n",
    "# This contains predictions for both tasks, flattened out\n",
    "# The first half of the predictions is for the first task\n",
    "# The second half is for the second task\n",
    "\n",
    "# Plot training data as black stars\n",
    "y1_ax.plot(train_x.detach().numpy(), train_y[:, 0].detach().numpy(), 'k*')\n",
    "# Predictive mean as blue line\n",
    "y1_ax.plot(test_x.numpy(), mean[:, 0].numpy(), 'b')\n",
    "# Shade in confidence\n",
    "y1_ax.fill_between(test_x.numpy(), lower[:, 0].numpy(), upper[:, 0].numpy(), alpha=0.5)\n",
    "y1_ax.set_ylim([-3, 3])\n",
    "y1_ax.legend(['Observed Data', 'Mean', 'Confidence'])\n",
    "y1_ax.set_title('Observed Values (Likelihood)')\n",
    "\n",
    "# Plot training data as black stars\n",
    "y2_ax.plot(train_x.detach().numpy(), train_y[:, 1].detach().numpy(), 'k*')\n",
    "# Predictive mean as blue line\n",
    "y2_ax.plot(test_x.numpy(), mean[:, 1].numpy(), 'b')\n",
    "# Shade in confidence\n",
    "y2_ax.fill_between(test_x.numpy(), lower[:, 1].numpy(), upper[:, 1].numpy(), alpha=0.5)\n",
    "y2_ax.set_ylim([-3, 3])\n",
    "y2_ax.legend(['Observed Data', 'Mean', 'Confidence'])\n",
    "y2_ax.set_title('Observed Values (Likelihood)')\n"
   ]
  },
  {
   "cell_type": "code",
   "execution_count": 16,
   "id": "cbb2a933",
   "metadata": {},
   "outputs": [],
   "source": [
    "test_x.grad"
   ]
  },
  {
   "cell_type": "code",
   "execution_count": 29,
   "id": "556048e0",
   "metadata": {},
   "outputs": [],
   "source": [
    "a = torch.tensor([2.0], dtype=torch.float, requires_grad=True)"
   ]
  },
  {
   "cell_type": "code",
   "execution_count": 30,
   "id": "a3af6924",
   "metadata": {},
   "outputs": [],
   "source": [
    "a = a + torch.tensor([1.0],dtype=torch.float)\n",
    "a.retain_grad()\n",
    "y = torch.square(a - torch.tensor([1.0]))"
   ]
  },
  {
   "cell_type": "code",
   "execution_count": 31,
   "id": "acf107fd",
   "metadata": {},
   "outputs": [],
   "source": [
    "y.backward()"
   ]
  },
  {
   "cell_type": "code",
   "execution_count": 32,
   "id": "1c7a00a8",
   "metadata": {},
   "outputs": [
    {
     "data": {
      "text/plain": [
       "tensor([4.])"
      ]
     },
     "execution_count": 32,
     "metadata": {},
     "output_type": "execute_result"
    }
   ],
   "source": [
    "a.grad"
   ]
  },
  {
   "cell_type": "code",
   "execution_count": 33,
   "id": "64fbe3b4",
   "metadata": {},
   "outputs": [],
   "source": [
    "a.grad=None"
   ]
  },
  {
   "cell_type": "code",
   "execution_count": 35,
   "id": "d381a6d9",
   "metadata": {},
   "outputs": [],
   "source": [
    "a = torch.tensor([2.0], dtype=torch.float, requires_grad=True)"
   ]
  },
  {
   "cell_type": "code",
   "execution_count": 36,
   "id": "2e3cfa53",
   "metadata": {},
   "outputs": [],
   "source": [
    "y = torch.square(a - torch.tensor([1.0]))"
   ]
  },
  {
   "cell_type": "code",
   "execution_count": 37,
   "id": "5b3d4663",
   "metadata": {},
   "outputs": [],
   "source": [
    "a = torch.tensor([5.0], dtype=torch.float, requires_grad=True)"
   ]
  },
  {
   "cell_type": "code",
   "execution_count": 38,
   "id": "f55beffb",
   "metadata": {},
   "outputs": [],
   "source": [
    "z = a - y"
   ]
  },
  {
   "cell_type": "code",
   "execution_count": 39,
   "id": "33b48ae1",
   "metadata": {},
   "outputs": [],
   "source": [
    "z.backward()"
   ]
  },
  {
   "cell_type": "code",
   "execution_count": 40,
   "id": "03853b59",
   "metadata": {},
   "outputs": [
    {
     "data": {
      "text/plain": [
       "tensor([1.])"
      ]
     },
     "execution_count": 40,
     "metadata": {},
     "output_type": "execute_result"
    }
   ],
   "source": [
    "a.grad"
   ]
  },
  {
   "cell_type": "code",
   "execution_count": 41,
   "id": "f49715c5",
   "metadata": {},
   "outputs": [],
   "source": [
    "y.grad"
   ]
  },
  {
   "cell_type": "code",
   "execution_count": null,
   "id": "ed524511",
   "metadata": {},
   "outputs": [],
   "source": []
  }
 ],
 "metadata": {
  "kernelspec": {
   "display_name": "Python 3 (ipykernel)",
   "language": "python",
   "name": "python3"
  },
  "language_info": {
   "codemirror_mode": {
    "name": "ipython",
    "version": 3
   },
   "file_extension": ".py",
   "mimetype": "text/x-python",
   "name": "python",
   "nbconvert_exporter": "python",
   "pygments_lexer": "ipython3",
   "version": "3.8.10"
  }
 },
 "nbformat": 4,
 "nbformat_minor": 5
}
